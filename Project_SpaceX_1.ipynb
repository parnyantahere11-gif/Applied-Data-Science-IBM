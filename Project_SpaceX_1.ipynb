{
 "cells": [
  {
   "cell_type": "markdown",
   "id": "50f38b24-7592-4ad6-b4e3-af81dbf9c9bf",
   "metadata": {},
   "source": [
    "\n",
    "\n",
    "#  Data Science Methodology for SpaceX Project (Falcon 9 Rocket)_ Part 1\n",
    "\n",
    " Let's Start with 1st step\n",
    "\n",
    "## 1) Business Understanding \n",
    "\n",
    " SpaceX claimed that it delivers cargo to the International Space Station using its Falcon 9 rocket \n",
    " for $62  million, while other competitors announced a cost of $165 million for the same service.\n",
    "\n",
    "The reason for SpaceX’s lower price is that the company can reuse the first stage of the rocket.\n",
    "\n",
    "\n",
    "## 2) Analytic Approach \n",
    "\n",
    "Predict whether SpaceX will reuse the first stage or not. (Predictive)\n",
    "\n",
    "\n",
    "## 3) Data Requirement \n",
    "\n",
    "What data do we need for each stage, and how we can provide it.\n",
    " We have data from previous launches showing which deliveries successfully landed the first stage, as well as their launch locations, orbits, and technical specifications.\n",
    "\n",
    "\n",
    "## 4) Data Collection\n",
    "\n",
    "In this project, we use SpaceX’s public API, which publishes data online, to gather the information we need.\n",
    "\n",
    "We use Python and its related libraries to acquire data from the website. Then, we run Python in Jupyter Notebook or Google Colab;\n",
    "\n",
    "in this project, we use Jupyter Notebook.\n",
    "\n"
   ]
  },
  {
   "cell_type": "code",
   "execution_count": 2,
   "id": "b82b7100-00d0-4a66-a80c-c241498fd77a",
   "metadata": {},
   "outputs": [
    {
     "name": "stdout",
     "output_type": "stream",
     "text": [
      "Package                   Version\n",
      "------------------------- --------------\n",
      "anyio                     4.10.0\n",
      "appnope                   0.1.4\n",
      "argon2-cffi               25.1.0\n",
      "argon2-cffi-bindings      25.1.0\n",
      "arrow                     1.3.0\n",
      "asttokens                 3.0.0\n",
      "async-lru                 2.0.5\n",
      "attrs                     25.3.0\n",
      "babel                     2.17.0\n",
      "beautifulsoup4            4.13.5\n",
      "bleach                    6.2.0\n",
      "bs4                       0.0.2\n",
      "certifi                   2025.8.3\n",
      "cffi                      1.17.1\n",
      "charset-normalizer        3.4.3\n",
      "comm                      0.2.3\n",
      "contourpy                 1.3.3\n",
      "curl_cffi                 0.13.0\n",
      "cycler                    0.12.1\n",
      "debugpy                   1.8.16\n",
      "decorator                 5.2.1\n",
      "defusedxml                0.7.1\n",
      "et_xmlfile                2.0.0\n",
      "executing                 2.2.0\n",
      "fastjsonschema            2.21.2\n",
      "fonttools                 4.59.2\n",
      "fqdn                      1.5.1\n",
      "frozendict                2.4.6\n",
      "h11                       0.16.0\n",
      "httpcore                  1.0.9\n",
      "httpx                     0.28.1\n",
      "idna                      3.10\n",
      "ipykernel                 6.30.1\n",
      "ipython                   9.4.0\n",
      "ipython_pygments_lexers   1.1.1\n",
      "isoduration               20.11.0\n",
      "jedi                      0.19.2\n",
      "Jinja2                    3.1.6\n",
      "joblib                    1.5.2\n",
      "json5                     0.12.1\n",
      "jsonpointer               3.0.0\n",
      "jsonschema                4.25.1\n",
      "jsonschema-specifications 2025.4.1\n",
      "jupyter_client            8.6.3\n",
      "jupyter_core              5.8.1\n",
      "jupyter-events            0.12.0\n",
      "jupyter-lsp               2.2.6\n",
      "jupyter_server            2.17.0\n",
      "jupyter_server_terminals  0.5.3\n",
      "jupyterlab                4.4.6\n",
      "jupyterlab_pygments       0.3.0\n",
      "jupyterlab_server         2.27.3\n",
      "kiwisolver                1.4.9\n",
      "lark                      1.2.2\n",
      "MarkupSafe                3.0.2\n",
      "matplotlib                3.10.6\n",
      "matplotlib-inline         0.1.7\n",
      "mistune                   3.1.3\n",
      "multitasking              0.0.12\n",
      "narwhals                  2.5.0\n",
      "nbclient                  0.10.2\n",
      "nbconvert                 7.16.6\n",
      "nbformat                  5.10.4\n",
      "nest-asyncio              1.6.0\n",
      "notebook                  7.4.5\n",
      "notebook_shim             0.2.4\n",
      "numpy                     2.3.2\n",
      "openpyxl                  3.1.5\n",
      "packaging                 25.0\n",
      "pandas                    2.3.2\n",
      "pandocfilters             1.5.1\n",
      "parso                     0.8.5\n",
      "peewee                    3.18.2\n",
      "pexpect                   4.9.0\n",
      "pillow                    11.3.0\n",
      "pip                       25.2\n",
      "platformdirs              4.3.8\n",
      "plotly                    6.3.0\n",
      "prometheus_client         0.22.1\n",
      "prompt_toolkit            3.0.51\n",
      "protobuf                  6.32.1\n",
      "psutil                    7.0.0\n",
      "ptyprocess                0.7.0\n",
      "pure_eval                 0.2.3\n",
      "pycparser                 2.22\n",
      "Pygments                  2.19.2\n",
      "pyparsing                 3.2.3\n",
      "python-dateutil           2.9.0.post0\n",
      "python-json-logger        3.3.0\n",
      "pytz                      2025.2\n",
      "PyYAML                    6.0.2\n",
      "pyzmq                     27.0.2\n",
      "referencing               0.36.2\n",
      "requests                  2.32.5\n",
      "rfc3339-validator         0.1.4\n",
      "rfc3986-validator         0.1.1\n",
      "rfc3987-syntax            1.1.0\n",
      "rpds-py                   0.27.0\n",
      "scikit-learn              1.7.2\n",
      "scipy                     1.16.2\n",
      "seaborn                   0.13.2\n",
      "Send2Trash                1.8.3\n",
      "setuptools                80.9.0\n",
      "six                       1.17.0\n",
      "sniffio                   1.3.1\n",
      "soupsieve                 2.7\n",
      "stack-data                0.6.3\n",
      "terminado                 0.18.1\n",
      "threadpoolctl             3.6.0\n",
      "tinycss2                  1.4.0\n",
      "tornado                   6.5.2\n",
      "traitlets                 5.14.3\n",
      "types-python-dateutil     2.9.0.20250822\n",
      "typing_extensions         4.15.0\n",
      "tzdata                    2025.2\n",
      "uri-template              1.3.0\n",
      "urllib3                   2.5.0\n",
      "wcwidth                   0.2.13\n",
      "webcolors                 24.11.1\n",
      "webencodings              0.5.1\n",
      "websocket-client          1.8.0\n",
      "websockets                15.0.1\n",
      "yfinance                  0.2.65\n",
      "Note: you may need to restart the kernel to use updated packages.\n"
     ]
    }
   ],
   "source": [
    "pip list"
   ]
  },
  {
   "cell_type": "code",
   "execution_count": 3,
   "id": "b10432e0-b3e6-4227-b59b-af009861e4ae",
   "metadata": {},
   "outputs": [
    {
     "name": "stdout",
     "output_type": "stream",
     "text": [
      "Requirement already satisfied: pandas in /Library/Frameworks/Python.framework/Versions/3.13/lib/python3.13/site-packages (2.3.2)\n",
      "Requirement already satisfied: numpy>=1.26.0 in /Library/Frameworks/Python.framework/Versions/3.13/lib/python3.13/site-packages (from pandas) (2.3.2)\n",
      "Requirement already satisfied: python-dateutil>=2.8.2 in /Library/Frameworks/Python.framework/Versions/3.13/lib/python3.13/site-packages (from pandas) (2.9.0.post0)\n",
      "Requirement already satisfied: pytz>=2020.1 in /Library/Frameworks/Python.framework/Versions/3.13/lib/python3.13/site-packages (from pandas) (2025.2)\n",
      "Requirement already satisfied: tzdata>=2022.7 in /Library/Frameworks/Python.framework/Versions/3.13/lib/python3.13/site-packages (from pandas) (2025.2)\n",
      "Requirement already satisfied: six>=1.5 in /Library/Frameworks/Python.framework/Versions/3.13/lib/python3.13/site-packages (from python-dateutil>=2.8.2->pandas) (1.17.0)\n"
     ]
    }
   ],
   "source": [
    "!pip3 install pandas"
   ]
  },
  {
   "cell_type": "code",
   "execution_count": 4,
   "id": "fa7a3e42-bf8b-4dbc-9fd3-43436e487d3d",
   "metadata": {},
   "outputs": [],
   "source": [
    "import pandas as pd"
   ]
  },
  {
   "cell_type": "markdown",
   "id": "ae398147-faab-46ba-b1b9-51774661f252",
   "metadata": {},
   "source": [
    "\n",
    "\n",
    "### Finding working path\n"
   ]
  },
  {
   "cell_type": "code",
   "execution_count": 5,
   "id": "3c93cbce-ada5-4a09-8df5-5ca9ac30d89a",
   "metadata": {},
   "outputs": [
    {
     "data": {
      "text/plain": [
       "'/Users/taherehehsan'"
      ]
     },
     "execution_count": 5,
     "metadata": {},
     "output_type": "execute_result"
    }
   ],
   "source": [
    "\n",
    "import os\n",
    "os.getcwd()"
   ]
  },
  {
   "cell_type": "markdown",
   "id": "4f28a62a-f88d-420b-a335-ed6911eb7ef4",
   "metadata": {},
   "source": [
    "\n",
    "### Read File in Pandas\n"
   ]
  },
  {
   "cell_type": "code",
   "execution_count": 9,
   "id": "d7a8b5ef-3483-421e-b50f-b032753987a0",
   "metadata": {},
   "outputs": [],
   "source": [
    "\n",
    "df = pd.read_csv('/Users/taherehehsan/dataset_falcon9.csv')"
   ]
  },
  {
   "cell_type": "code",
   "execution_count": 7,
   "id": "673f0a3e-745a-4b51-b26a-902735e595f0",
   "metadata": {},
   "outputs": [
    {
     "data": {
      "text/html": [
       "<div>\n",
       "<style scoped>\n",
       "    .dataframe tbody tr th:only-of-type {\n",
       "        vertical-align: middle;\n",
       "    }\n",
       "\n",
       "    .dataframe tbody tr th {\n",
       "        vertical-align: top;\n",
       "    }\n",
       "\n",
       "    .dataframe thead th {\n",
       "        text-align: right;\n",
       "    }\n",
       "</style>\n",
       "<table border=\"1\" class=\"dataframe\">\n",
       "  <thead>\n",
       "    <tr style=\"text-align: right;\">\n",
       "      <th></th>\n",
       "      <th>FlightNumber</th>\n",
       "      <th>Date</th>\n",
       "      <th>BoosterVersion</th>\n",
       "      <th>PayloadMass</th>\n",
       "      <th>Orbit</th>\n",
       "      <th>LaunchSite</th>\n",
       "      <th>Outcome</th>\n",
       "      <th>Flights</th>\n",
       "      <th>GridFins</th>\n",
       "      <th>Reused</th>\n",
       "      <th>Legs</th>\n",
       "      <th>LandingPad</th>\n",
       "      <th>Block</th>\n",
       "      <th>ReusedCount</th>\n",
       "      <th>Serial</th>\n",
       "      <th>Longitude</th>\n",
       "      <th>Latitude</th>\n",
       "      <th>Class</th>\n",
       "    </tr>\n",
       "  </thead>\n",
       "  <tbody>\n",
       "    <tr>\n",
       "      <th>0</th>\n",
       "      <td>1</td>\n",
       "      <td>2010-06-04</td>\n",
       "      <td>Falcon 9</td>\n",
       "      <td>6104.959412</td>\n",
       "      <td>LEO</td>\n",
       "      <td>CCAFS SLC 40</td>\n",
       "      <td>None None</td>\n",
       "      <td>1</td>\n",
       "      <td>False</td>\n",
       "      <td>False</td>\n",
       "      <td>False</td>\n",
       "      <td>NaN</td>\n",
       "      <td>1.0</td>\n",
       "      <td>0</td>\n",
       "      <td>B0003</td>\n",
       "      <td>-80.577366</td>\n",
       "      <td>28.561857</td>\n",
       "      <td>0</td>\n",
       "    </tr>\n",
       "    <tr>\n",
       "      <th>1</th>\n",
       "      <td>2</td>\n",
       "      <td>2012-05-22</td>\n",
       "      <td>Falcon 9</td>\n",
       "      <td>525.000000</td>\n",
       "      <td>LEO</td>\n",
       "      <td>CCAFS SLC 40</td>\n",
       "      <td>None None</td>\n",
       "      <td>1</td>\n",
       "      <td>False</td>\n",
       "      <td>False</td>\n",
       "      <td>False</td>\n",
       "      <td>NaN</td>\n",
       "      <td>1.0</td>\n",
       "      <td>0</td>\n",
       "      <td>B0005</td>\n",
       "      <td>-80.577366</td>\n",
       "      <td>28.561857</td>\n",
       "      <td>0</td>\n",
       "    </tr>\n",
       "    <tr>\n",
       "      <th>2</th>\n",
       "      <td>3</td>\n",
       "      <td>2013-03-01</td>\n",
       "      <td>Falcon 9</td>\n",
       "      <td>677.000000</td>\n",
       "      <td>ISS</td>\n",
       "      <td>CCAFS SLC 40</td>\n",
       "      <td>None None</td>\n",
       "      <td>1</td>\n",
       "      <td>False</td>\n",
       "      <td>False</td>\n",
       "      <td>False</td>\n",
       "      <td>NaN</td>\n",
       "      <td>1.0</td>\n",
       "      <td>0</td>\n",
       "      <td>B0007</td>\n",
       "      <td>-80.577366</td>\n",
       "      <td>28.561857</td>\n",
       "      <td>0</td>\n",
       "    </tr>\n",
       "    <tr>\n",
       "      <th>3</th>\n",
       "      <td>4</td>\n",
       "      <td>2013-09-29</td>\n",
       "      <td>Falcon 9</td>\n",
       "      <td>500.000000</td>\n",
       "      <td>PO</td>\n",
       "      <td>VAFB SLC 4E</td>\n",
       "      <td>False Ocean</td>\n",
       "      <td>1</td>\n",
       "      <td>False</td>\n",
       "      <td>False</td>\n",
       "      <td>False</td>\n",
       "      <td>NaN</td>\n",
       "      <td>1.0</td>\n",
       "      <td>0</td>\n",
       "      <td>B1003</td>\n",
       "      <td>-120.610829</td>\n",
       "      <td>34.632093</td>\n",
       "      <td>0</td>\n",
       "    </tr>\n",
       "    <tr>\n",
       "      <th>4</th>\n",
       "      <td>5</td>\n",
       "      <td>2013-12-03</td>\n",
       "      <td>Falcon 9</td>\n",
       "      <td>3170.000000</td>\n",
       "      <td>GTO</td>\n",
       "      <td>CCAFS SLC 40</td>\n",
       "      <td>None None</td>\n",
       "      <td>1</td>\n",
       "      <td>False</td>\n",
       "      <td>False</td>\n",
       "      <td>False</td>\n",
       "      <td>NaN</td>\n",
       "      <td>1.0</td>\n",
       "      <td>0</td>\n",
       "      <td>B1004</td>\n",
       "      <td>-80.577366</td>\n",
       "      <td>28.561857</td>\n",
       "      <td>0</td>\n",
       "    </tr>\n",
       "    <tr>\n",
       "      <th>...</th>\n",
       "      <td>...</td>\n",
       "      <td>...</td>\n",
       "      <td>...</td>\n",
       "      <td>...</td>\n",
       "      <td>...</td>\n",
       "      <td>...</td>\n",
       "      <td>...</td>\n",
       "      <td>...</td>\n",
       "      <td>...</td>\n",
       "      <td>...</td>\n",
       "      <td>...</td>\n",
       "      <td>...</td>\n",
       "      <td>...</td>\n",
       "      <td>...</td>\n",
       "      <td>...</td>\n",
       "      <td>...</td>\n",
       "      <td>...</td>\n",
       "      <td>...</td>\n",
       "    </tr>\n",
       "    <tr>\n",
       "      <th>85</th>\n",
       "      <td>86</td>\n",
       "      <td>2020-09-03</td>\n",
       "      <td>Falcon 9</td>\n",
       "      <td>15400.000000</td>\n",
       "      <td>VLEO</td>\n",
       "      <td>KSC LC 39A</td>\n",
       "      <td>True ASDS</td>\n",
       "      <td>2</td>\n",
       "      <td>True</td>\n",
       "      <td>True</td>\n",
       "      <td>True</td>\n",
       "      <td>5e9e3032383ecb6bb234e7ca</td>\n",
       "      <td>5.0</td>\n",
       "      <td>2</td>\n",
       "      <td>B1060</td>\n",
       "      <td>-80.603956</td>\n",
       "      <td>28.608058</td>\n",
       "      <td>1</td>\n",
       "    </tr>\n",
       "    <tr>\n",
       "      <th>86</th>\n",
       "      <td>87</td>\n",
       "      <td>2020-10-06</td>\n",
       "      <td>Falcon 9</td>\n",
       "      <td>15400.000000</td>\n",
       "      <td>VLEO</td>\n",
       "      <td>KSC LC 39A</td>\n",
       "      <td>True ASDS</td>\n",
       "      <td>3</td>\n",
       "      <td>True</td>\n",
       "      <td>True</td>\n",
       "      <td>True</td>\n",
       "      <td>5e9e3032383ecb6bb234e7ca</td>\n",
       "      <td>5.0</td>\n",
       "      <td>2</td>\n",
       "      <td>B1058</td>\n",
       "      <td>-80.603956</td>\n",
       "      <td>28.608058</td>\n",
       "      <td>1</td>\n",
       "    </tr>\n",
       "    <tr>\n",
       "      <th>87</th>\n",
       "      <td>88</td>\n",
       "      <td>2020-10-18</td>\n",
       "      <td>Falcon 9</td>\n",
       "      <td>15400.000000</td>\n",
       "      <td>VLEO</td>\n",
       "      <td>KSC LC 39A</td>\n",
       "      <td>True ASDS</td>\n",
       "      <td>6</td>\n",
       "      <td>True</td>\n",
       "      <td>True</td>\n",
       "      <td>True</td>\n",
       "      <td>5e9e3032383ecb6bb234e7ca</td>\n",
       "      <td>5.0</td>\n",
       "      <td>5</td>\n",
       "      <td>B1051</td>\n",
       "      <td>-80.603956</td>\n",
       "      <td>28.608058</td>\n",
       "      <td>1</td>\n",
       "    </tr>\n",
       "    <tr>\n",
       "      <th>88</th>\n",
       "      <td>89</td>\n",
       "      <td>2020-10-24</td>\n",
       "      <td>Falcon 9</td>\n",
       "      <td>15400.000000</td>\n",
       "      <td>VLEO</td>\n",
       "      <td>CCAFS SLC 40</td>\n",
       "      <td>True ASDS</td>\n",
       "      <td>3</td>\n",
       "      <td>True</td>\n",
       "      <td>True</td>\n",
       "      <td>True</td>\n",
       "      <td>5e9e3033383ecbb9e534e7cc</td>\n",
       "      <td>5.0</td>\n",
       "      <td>2</td>\n",
       "      <td>B1060</td>\n",
       "      <td>-80.577366</td>\n",
       "      <td>28.561857</td>\n",
       "      <td>1</td>\n",
       "    </tr>\n",
       "    <tr>\n",
       "      <th>89</th>\n",
       "      <td>90</td>\n",
       "      <td>2020-11-05</td>\n",
       "      <td>Falcon 9</td>\n",
       "      <td>3681.000000</td>\n",
       "      <td>MEO</td>\n",
       "      <td>CCAFS SLC 40</td>\n",
       "      <td>True ASDS</td>\n",
       "      <td>1</td>\n",
       "      <td>True</td>\n",
       "      <td>False</td>\n",
       "      <td>True</td>\n",
       "      <td>5e9e3032383ecb6bb234e7ca</td>\n",
       "      <td>5.0</td>\n",
       "      <td>0</td>\n",
       "      <td>B1062</td>\n",
       "      <td>-80.577366</td>\n",
       "      <td>28.561857</td>\n",
       "      <td>1</td>\n",
       "    </tr>\n",
       "  </tbody>\n",
       "</table>\n",
       "<p>90 rows × 18 columns</p>\n",
       "</div>"
      ],
      "text/plain": [
       "    FlightNumber        Date BoosterVersion   PayloadMass Orbit    LaunchSite  \\\n",
       "0              1  2010-06-04       Falcon 9   6104.959412   LEO  CCAFS SLC 40   \n",
       "1              2  2012-05-22       Falcon 9    525.000000   LEO  CCAFS SLC 40   \n",
       "2              3  2013-03-01       Falcon 9    677.000000   ISS  CCAFS SLC 40   \n",
       "3              4  2013-09-29       Falcon 9    500.000000    PO   VAFB SLC 4E   \n",
       "4              5  2013-12-03       Falcon 9   3170.000000   GTO  CCAFS SLC 40   \n",
       "..           ...         ...            ...           ...   ...           ...   \n",
       "85            86  2020-09-03       Falcon 9  15400.000000  VLEO    KSC LC 39A   \n",
       "86            87  2020-10-06       Falcon 9  15400.000000  VLEO    KSC LC 39A   \n",
       "87            88  2020-10-18       Falcon 9  15400.000000  VLEO    KSC LC 39A   \n",
       "88            89  2020-10-24       Falcon 9  15400.000000  VLEO  CCAFS SLC 40   \n",
       "89            90  2020-11-05       Falcon 9   3681.000000   MEO  CCAFS SLC 40   \n",
       "\n",
       "        Outcome  Flights  GridFins  Reused   Legs                LandingPad  \\\n",
       "0     None None        1     False   False  False                       NaN   \n",
       "1     None None        1     False   False  False                       NaN   \n",
       "2     None None        1     False   False  False                       NaN   \n",
       "3   False Ocean        1     False   False  False                       NaN   \n",
       "4     None None        1     False   False  False                       NaN   \n",
       "..          ...      ...       ...     ...    ...                       ...   \n",
       "85    True ASDS        2      True    True   True  5e9e3032383ecb6bb234e7ca   \n",
       "86    True ASDS        3      True    True   True  5e9e3032383ecb6bb234e7ca   \n",
       "87    True ASDS        6      True    True   True  5e9e3032383ecb6bb234e7ca   \n",
       "88    True ASDS        3      True    True   True  5e9e3033383ecbb9e534e7cc   \n",
       "89    True ASDS        1      True   False   True  5e9e3032383ecb6bb234e7ca   \n",
       "\n",
       "    Block  ReusedCount Serial   Longitude   Latitude  Class  \n",
       "0     1.0            0  B0003  -80.577366  28.561857      0  \n",
       "1     1.0            0  B0005  -80.577366  28.561857      0  \n",
       "2     1.0            0  B0007  -80.577366  28.561857      0  \n",
       "3     1.0            0  B1003 -120.610829  34.632093      0  \n",
       "4     1.0            0  B1004  -80.577366  28.561857      0  \n",
       "..    ...          ...    ...         ...        ...    ...  \n",
       "85    5.0            2  B1060  -80.603956  28.608058      1  \n",
       "86    5.0            2  B1058  -80.603956  28.608058      1  \n",
       "87    5.0            5  B1051  -80.603956  28.608058      1  \n",
       "88    5.0            2  B1060  -80.577366  28.561857      1  \n",
       "89    5.0            0  B1062  -80.577366  28.561857      1  \n",
       "\n",
       "[90 rows x 18 columns]"
      ]
     },
     "execution_count": 7,
     "metadata": {},
     "output_type": "execute_result"
    }
   ],
   "source": [
    "df"
   ]
  },
  {
   "cell_type": "markdown",
   "id": "2f603912-1449-436d-96f4-661bcc92f740",
   "metadata": {},
   "source": [
    "\n",
    "\n",
    "## 5) Data Understanding \n",
    "\n",
    "We have a table that by itself does not provide any insight. \n",
    "We should use the tools and skills we’ve learned to identify the relationships between the columns and the target variable.\n",
    "determinig whether the event occurs or not. \n",
    "By improving our programming skills, we can plot the data and better understand these relationships.\n",
    "\n"
   ]
  },
  {
   "cell_type": "markdown",
   "id": "d4c184e6-682d-4152-9bcb-0e18499a60fe",
   "metadata": {},
   "source": [
    "\n",
    "### Exploratory Data Analysis\n",
    "\n",
    "### First Get info"
   ]
  },
  {
   "cell_type": "code",
   "execution_count": 9,
   "id": "4dec1d5b-0a52-4b7b-a802-ae7c32dee5b2",
   "metadata": {},
   "outputs": [
    {
     "name": "stdout",
     "output_type": "stream",
     "text": [
      "<class 'pandas.core.frame.DataFrame'>\n",
      "RangeIndex: 90 entries, 0 to 89\n",
      "Data columns (total 18 columns):\n",
      " #   Column          Non-Null Count  Dtype  \n",
      "---  ------          --------------  -----  \n",
      " 0   FlightNumber    90 non-null     int64  \n",
      " 1   Date            90 non-null     object \n",
      " 2   BoosterVersion  90 non-null     object \n",
      " 3   PayloadMass     90 non-null     float64\n",
      " 4   Orbit           90 non-null     object \n",
      " 5   LaunchSite      90 non-null     object \n",
      " 6   Outcome         90 non-null     object \n",
      " 7   Flights         90 non-null     int64  \n",
      " 8   GridFins        90 non-null     bool   \n",
      " 9   Reused          90 non-null     bool   \n",
      " 10  Legs            90 non-null     bool   \n",
      " 11  LandingPad      64 non-null     object \n",
      " 12  Block           90 non-null     float64\n",
      " 13  ReusedCount     90 non-null     int64  \n",
      " 14  Serial          90 non-null     object \n",
      " 15  Longitude       90 non-null     float64\n",
      " 16  Latitude        90 non-null     float64\n",
      " 17  Class           90 non-null     int64  \n",
      "dtypes: bool(3), float64(4), int64(4), object(7)\n",
      "memory usage: 10.9+ KB\n"
     ]
    }
   ],
   "source": [
    "\n",
    "df.info()"
   ]
  },
  {
   "cell_type": "markdown",
   "id": "4575f613-c45c-4434-ab9a-7ed8bf504660",
   "metadata": {},
   "source": [
    "\n",
    " 90 rows and all non_null, except LandingPad which has 64 non_value; we have missing value in this row.\n"
   ]
  },
  {
   "cell_type": "markdown",
   "id": "4671983c-304b-4ef6-bc79-8106a6f51dda",
   "metadata": {},
   "source": [
    "\n",
    "### head Method in DataFrame"
   ]
  },
  {
   "cell_type": "code",
   "execution_count": 10,
   "id": "80809986-cc92-4dc7-9531-2573bf2a84f5",
   "metadata": {},
   "outputs": [
    {
     "data": {
      "text/html": [
       "<div>\n",
       "<style scoped>\n",
       "    .dataframe tbody tr th:only-of-type {\n",
       "        vertical-align: middle;\n",
       "    }\n",
       "\n",
       "    .dataframe tbody tr th {\n",
       "        vertical-align: top;\n",
       "    }\n",
       "\n",
       "    .dataframe thead th {\n",
       "        text-align: right;\n",
       "    }\n",
       "</style>\n",
       "<table border=\"1\" class=\"dataframe\">\n",
       "  <thead>\n",
       "    <tr style=\"text-align: right;\">\n",
       "      <th></th>\n",
       "      <th>FlightNumber</th>\n",
       "      <th>Date</th>\n",
       "      <th>BoosterVersion</th>\n",
       "      <th>PayloadMass</th>\n",
       "      <th>Orbit</th>\n",
       "      <th>LaunchSite</th>\n",
       "      <th>Outcome</th>\n",
       "      <th>Flights</th>\n",
       "      <th>GridFins</th>\n",
       "      <th>Reused</th>\n",
       "      <th>Legs</th>\n",
       "      <th>LandingPad</th>\n",
       "      <th>Block</th>\n",
       "      <th>ReusedCount</th>\n",
       "      <th>Serial</th>\n",
       "      <th>Longitude</th>\n",
       "      <th>Latitude</th>\n",
       "      <th>Class</th>\n",
       "    </tr>\n",
       "  </thead>\n",
       "  <tbody>\n",
       "    <tr>\n",
       "      <th>0</th>\n",
       "      <td>1</td>\n",
       "      <td>2010-06-04</td>\n",
       "      <td>Falcon 9</td>\n",
       "      <td>6104.959412</td>\n",
       "      <td>LEO</td>\n",
       "      <td>CCAFS SLC 40</td>\n",
       "      <td>None None</td>\n",
       "      <td>1</td>\n",
       "      <td>False</td>\n",
       "      <td>False</td>\n",
       "      <td>False</td>\n",
       "      <td>NaN</td>\n",
       "      <td>1.0</td>\n",
       "      <td>0</td>\n",
       "      <td>B0003</td>\n",
       "      <td>-80.577366</td>\n",
       "      <td>28.561857</td>\n",
       "      <td>0</td>\n",
       "    </tr>\n",
       "    <tr>\n",
       "      <th>1</th>\n",
       "      <td>2</td>\n",
       "      <td>2012-05-22</td>\n",
       "      <td>Falcon 9</td>\n",
       "      <td>525.000000</td>\n",
       "      <td>LEO</td>\n",
       "      <td>CCAFS SLC 40</td>\n",
       "      <td>None None</td>\n",
       "      <td>1</td>\n",
       "      <td>False</td>\n",
       "      <td>False</td>\n",
       "      <td>False</td>\n",
       "      <td>NaN</td>\n",
       "      <td>1.0</td>\n",
       "      <td>0</td>\n",
       "      <td>B0005</td>\n",
       "      <td>-80.577366</td>\n",
       "      <td>28.561857</td>\n",
       "      <td>0</td>\n",
       "    </tr>\n",
       "    <tr>\n",
       "      <th>2</th>\n",
       "      <td>3</td>\n",
       "      <td>2013-03-01</td>\n",
       "      <td>Falcon 9</td>\n",
       "      <td>677.000000</td>\n",
       "      <td>ISS</td>\n",
       "      <td>CCAFS SLC 40</td>\n",
       "      <td>None None</td>\n",
       "      <td>1</td>\n",
       "      <td>False</td>\n",
       "      <td>False</td>\n",
       "      <td>False</td>\n",
       "      <td>NaN</td>\n",
       "      <td>1.0</td>\n",
       "      <td>0</td>\n",
       "      <td>B0007</td>\n",
       "      <td>-80.577366</td>\n",
       "      <td>28.561857</td>\n",
       "      <td>0</td>\n",
       "    </tr>\n",
       "    <tr>\n",
       "      <th>3</th>\n",
       "      <td>4</td>\n",
       "      <td>2013-09-29</td>\n",
       "      <td>Falcon 9</td>\n",
       "      <td>500.000000</td>\n",
       "      <td>PO</td>\n",
       "      <td>VAFB SLC 4E</td>\n",
       "      <td>False Ocean</td>\n",
       "      <td>1</td>\n",
       "      <td>False</td>\n",
       "      <td>False</td>\n",
       "      <td>False</td>\n",
       "      <td>NaN</td>\n",
       "      <td>1.0</td>\n",
       "      <td>0</td>\n",
       "      <td>B1003</td>\n",
       "      <td>-120.610829</td>\n",
       "      <td>34.632093</td>\n",
       "      <td>0</td>\n",
       "    </tr>\n",
       "    <tr>\n",
       "      <th>4</th>\n",
       "      <td>5</td>\n",
       "      <td>2013-12-03</td>\n",
       "      <td>Falcon 9</td>\n",
       "      <td>3170.000000</td>\n",
       "      <td>GTO</td>\n",
       "      <td>CCAFS SLC 40</td>\n",
       "      <td>None None</td>\n",
       "      <td>1</td>\n",
       "      <td>False</td>\n",
       "      <td>False</td>\n",
       "      <td>False</td>\n",
       "      <td>NaN</td>\n",
       "      <td>1.0</td>\n",
       "      <td>0</td>\n",
       "      <td>B1004</td>\n",
       "      <td>-80.577366</td>\n",
       "      <td>28.561857</td>\n",
       "      <td>0</td>\n",
       "    </tr>\n",
       "  </tbody>\n",
       "</table>\n",
       "</div>"
      ],
      "text/plain": [
       "   FlightNumber        Date BoosterVersion  PayloadMass Orbit    LaunchSite  \\\n",
       "0             1  2010-06-04       Falcon 9  6104.959412   LEO  CCAFS SLC 40   \n",
       "1             2  2012-05-22       Falcon 9   525.000000   LEO  CCAFS SLC 40   \n",
       "2             3  2013-03-01       Falcon 9   677.000000   ISS  CCAFS SLC 40   \n",
       "3             4  2013-09-29       Falcon 9   500.000000    PO   VAFB SLC 4E   \n",
       "4             5  2013-12-03       Falcon 9  3170.000000   GTO  CCAFS SLC 40   \n",
       "\n",
       "       Outcome  Flights  GridFins  Reused   Legs LandingPad  Block  \\\n",
       "0    None None        1     False   False  False        NaN    1.0   \n",
       "1    None None        1     False   False  False        NaN    1.0   \n",
       "2    None None        1     False   False  False        NaN    1.0   \n",
       "3  False Ocean        1     False   False  False        NaN    1.0   \n",
       "4    None None        1     False   False  False        NaN    1.0   \n",
       "\n",
       "   ReusedCount Serial   Longitude   Latitude  Class  \n",
       "0            0  B0003  -80.577366  28.561857      0  \n",
       "1            0  B0005  -80.577366  28.561857      0  \n",
       "2            0  B0007  -80.577366  28.561857      0  \n",
       "3            0  B1003 -120.610829  34.632093      0  \n",
       "4            0  B1004  -80.577366  28.561857      0  "
      ]
     },
     "execution_count": 10,
     "metadata": {},
     "output_type": "execute_result"
    }
   ],
   "source": [
    "\n",
    "df.head()"
   ]
  },
  {
   "cell_type": "markdown",
   "id": "1ff3afaf-87a6-47b9-b162-b898c366a855",
   "metadata": {},
   "source": [
    "\n",
    "### Tail Method in DataFrame\n"
   ]
  },
  {
   "cell_type": "code",
   "execution_count": 11,
   "id": "f16661ba-3721-4bec-8870-edc93ad5ed1f",
   "metadata": {},
   "outputs": [
    {
     "data": {
      "text/html": [
       "<div>\n",
       "<style scoped>\n",
       "    .dataframe tbody tr th:only-of-type {\n",
       "        vertical-align: middle;\n",
       "    }\n",
       "\n",
       "    .dataframe tbody tr th {\n",
       "        vertical-align: top;\n",
       "    }\n",
       "\n",
       "    .dataframe thead th {\n",
       "        text-align: right;\n",
       "    }\n",
       "</style>\n",
       "<table border=\"1\" class=\"dataframe\">\n",
       "  <thead>\n",
       "    <tr style=\"text-align: right;\">\n",
       "      <th></th>\n",
       "      <th>FlightNumber</th>\n",
       "      <th>Date</th>\n",
       "      <th>BoosterVersion</th>\n",
       "      <th>PayloadMass</th>\n",
       "      <th>Orbit</th>\n",
       "      <th>LaunchSite</th>\n",
       "      <th>Outcome</th>\n",
       "      <th>Flights</th>\n",
       "      <th>GridFins</th>\n",
       "      <th>Reused</th>\n",
       "      <th>Legs</th>\n",
       "      <th>LandingPad</th>\n",
       "      <th>Block</th>\n",
       "      <th>ReusedCount</th>\n",
       "      <th>Serial</th>\n",
       "      <th>Longitude</th>\n",
       "      <th>Latitude</th>\n",
       "      <th>Class</th>\n",
       "    </tr>\n",
       "  </thead>\n",
       "  <tbody>\n",
       "    <tr>\n",
       "      <th>88</th>\n",
       "      <td>89</td>\n",
       "      <td>2020-10-24</td>\n",
       "      <td>Falcon 9</td>\n",
       "      <td>15400.0</td>\n",
       "      <td>VLEO</td>\n",
       "      <td>CCAFS SLC 40</td>\n",
       "      <td>True ASDS</td>\n",
       "      <td>3</td>\n",
       "      <td>True</td>\n",
       "      <td>True</td>\n",
       "      <td>True</td>\n",
       "      <td>5e9e3033383ecbb9e534e7cc</td>\n",
       "      <td>5.0</td>\n",
       "      <td>2</td>\n",
       "      <td>B1060</td>\n",
       "      <td>-80.577366</td>\n",
       "      <td>28.561857</td>\n",
       "      <td>1</td>\n",
       "    </tr>\n",
       "    <tr>\n",
       "      <th>89</th>\n",
       "      <td>90</td>\n",
       "      <td>2020-11-05</td>\n",
       "      <td>Falcon 9</td>\n",
       "      <td>3681.0</td>\n",
       "      <td>MEO</td>\n",
       "      <td>CCAFS SLC 40</td>\n",
       "      <td>True ASDS</td>\n",
       "      <td>1</td>\n",
       "      <td>True</td>\n",
       "      <td>False</td>\n",
       "      <td>True</td>\n",
       "      <td>5e9e3032383ecb6bb234e7ca</td>\n",
       "      <td>5.0</td>\n",
       "      <td>0</td>\n",
       "      <td>B1062</td>\n",
       "      <td>-80.577366</td>\n",
       "      <td>28.561857</td>\n",
       "      <td>1</td>\n",
       "    </tr>\n",
       "  </tbody>\n",
       "</table>\n",
       "</div>"
      ],
      "text/plain": [
       "    FlightNumber        Date BoosterVersion  PayloadMass Orbit    LaunchSite  \\\n",
       "88            89  2020-10-24       Falcon 9      15400.0  VLEO  CCAFS SLC 40   \n",
       "89            90  2020-11-05       Falcon 9       3681.0   MEO  CCAFS SLC 40   \n",
       "\n",
       "      Outcome  Flights  GridFins  Reused  Legs                LandingPad  \\\n",
       "88  True ASDS        3      True    True  True  5e9e3033383ecbb9e534e7cc   \n",
       "89  True ASDS        1      True   False  True  5e9e3032383ecb6bb234e7ca   \n",
       "\n",
       "    Block  ReusedCount Serial  Longitude   Latitude  Class  \n",
       "88    5.0            2  B1060 -80.577366  28.561857      1  \n",
       "89    5.0            0  B1062 -80.577366  28.561857      1  "
      ]
     },
     "execution_count": 11,
     "metadata": {},
     "output_type": "execute_result"
    }
   ],
   "source": [
    "\n",
    "df.tail(2)"
   ]
  },
  {
   "cell_type": "markdown",
   "id": "f42e0935-87bf-45d4-9c7d-eff5bd5ce948",
   "metadata": {},
   "source": [
    "\n",
    "### Read Column in DataFrame\n"
   ]
  },
  {
   "cell_type": "code",
   "execution_count": 13,
   "id": "7934cb61-4e9e-43fb-a3e0-df8f862ed995",
   "metadata": {},
   "outputs": [
    {
     "data": {
      "text/plain": [
       "Index(['FlightNumber', 'Date', 'BoosterVersion', 'PayloadMass', 'Orbit',\n",
       "       'LaunchSite', 'Outcome', 'Flights', 'GridFins', 'Reused', 'Legs',\n",
       "       'LandingPad', 'Block', 'ReusedCount', 'Serial', 'Longitude', 'Latitude',\n",
       "       'Class'],\n",
       "      dtype='object')"
      ]
     },
     "execution_count": 13,
     "metadata": {},
     "output_type": "execute_result"
    }
   ],
   "source": [
    "\n",
    "df.columns"
   ]
  },
  {
   "cell_type": "code",
   "execution_count": 14,
   "id": "bc5e7eda-f4cc-45e6-b516-4c1c60522f07",
   "metadata": {},
   "outputs": [
    {
     "data": {
      "text/plain": [
       "0      1\n",
       "1      2\n",
       "2      3\n",
       "3      4\n",
       "4      5\n",
       "      ..\n",
       "85    86\n",
       "86    87\n",
       "87    88\n",
       "88    89\n",
       "89    90\n",
       "Name: FlightNumber, Length: 90, dtype: int64"
      ]
     },
     "execution_count": 14,
     "metadata": {},
     "output_type": "execute_result"
    }
   ],
   "source": [
    "\n",
    "df['FlightNumber']"
   ]
  },
  {
   "cell_type": "markdown",
   "id": "1114dab4-6893-4b38-a8b4-280b5359f726",
   "metadata": {},
   "source": [
    "\n",
    "### How many columns and row are in our DataFrame? \n"
   ]
  },
  {
   "cell_type": "code",
   "execution_count": 15,
   "id": "be50e4c9-e0ec-4fa7-ac4a-6a1f9346d6f9",
   "metadata": {},
   "outputs": [
    {
     "data": {
      "text/plain": [
       "(90, 18)"
      ]
     },
     "execution_count": 15,
     "metadata": {},
     "output_type": "execute_result"
    }
   ],
   "source": [
    "\n",
    "df.shape"
   ]
  },
  {
   "cell_type": "code",
   "execution_count": 16,
   "id": "117bd9bf-c0b0-4d4c-b373-b57b1c31803c",
   "metadata": {},
   "outputs": [
    {
     "data": {
      "text/html": [
       "<div>\n",
       "<style scoped>\n",
       "    .dataframe tbody tr th:only-of-type {\n",
       "        vertical-align: middle;\n",
       "    }\n",
       "\n",
       "    .dataframe tbody tr th {\n",
       "        vertical-align: top;\n",
       "    }\n",
       "\n",
       "    .dataframe thead th {\n",
       "        text-align: right;\n",
       "    }\n",
       "</style>\n",
       "<table border=\"1\" class=\"dataframe\">\n",
       "  <thead>\n",
       "    <tr style=\"text-align: right;\">\n",
       "      <th></th>\n",
       "      <th>FlightNumber</th>\n",
       "      <th>PayloadMass</th>\n",
       "      <th>Flights</th>\n",
       "      <th>Block</th>\n",
       "      <th>ReusedCount</th>\n",
       "      <th>Longitude</th>\n",
       "      <th>Latitude</th>\n",
       "      <th>Class</th>\n",
       "    </tr>\n",
       "  </thead>\n",
       "  <tbody>\n",
       "    <tr>\n",
       "      <th>count</th>\n",
       "      <td>90.000000</td>\n",
       "      <td>90.000000</td>\n",
       "      <td>90.000000</td>\n",
       "      <td>90.000000</td>\n",
       "      <td>90.000000</td>\n",
       "      <td>90.000000</td>\n",
       "      <td>90.000000</td>\n",
       "      <td>90.000000</td>\n",
       "    </tr>\n",
       "    <tr>\n",
       "      <th>mean</th>\n",
       "      <td>45.500000</td>\n",
       "      <td>6104.959412</td>\n",
       "      <td>1.788889</td>\n",
       "      <td>3.500000</td>\n",
       "      <td>1.655556</td>\n",
       "      <td>-86.366477</td>\n",
       "      <td>29.449963</td>\n",
       "      <td>0.666667</td>\n",
       "    </tr>\n",
       "    <tr>\n",
       "      <th>std</th>\n",
       "      <td>26.124701</td>\n",
       "      <td>4694.671720</td>\n",
       "      <td>1.213172</td>\n",
       "      <td>1.595288</td>\n",
       "      <td>1.710254</td>\n",
       "      <td>14.149518</td>\n",
       "      <td>2.141306</td>\n",
       "      <td>0.474045</td>\n",
       "    </tr>\n",
       "    <tr>\n",
       "      <th>min</th>\n",
       "      <td>1.000000</td>\n",
       "      <td>350.000000</td>\n",
       "      <td>1.000000</td>\n",
       "      <td>1.000000</td>\n",
       "      <td>0.000000</td>\n",
       "      <td>-120.610829</td>\n",
       "      <td>28.561857</td>\n",
       "      <td>0.000000</td>\n",
       "    </tr>\n",
       "    <tr>\n",
       "      <th>25%</th>\n",
       "      <td>23.250000</td>\n",
       "      <td>2510.750000</td>\n",
       "      <td>1.000000</td>\n",
       "      <td>2.000000</td>\n",
       "      <td>0.000000</td>\n",
       "      <td>-80.603956</td>\n",
       "      <td>28.561857</td>\n",
       "      <td>0.000000</td>\n",
       "    </tr>\n",
       "    <tr>\n",
       "      <th>50%</th>\n",
       "      <td>45.500000</td>\n",
       "      <td>4701.500000</td>\n",
       "      <td>1.000000</td>\n",
       "      <td>4.000000</td>\n",
       "      <td>1.000000</td>\n",
       "      <td>-80.577366</td>\n",
       "      <td>28.561857</td>\n",
       "      <td>1.000000</td>\n",
       "    </tr>\n",
       "    <tr>\n",
       "      <th>75%</th>\n",
       "      <td>67.750000</td>\n",
       "      <td>8912.750000</td>\n",
       "      <td>2.000000</td>\n",
       "      <td>5.000000</td>\n",
       "      <td>3.000000</td>\n",
       "      <td>-80.577366</td>\n",
       "      <td>28.608058</td>\n",
       "      <td>1.000000</td>\n",
       "    </tr>\n",
       "    <tr>\n",
       "      <th>max</th>\n",
       "      <td>90.000000</td>\n",
       "      <td>15600.000000</td>\n",
       "      <td>6.000000</td>\n",
       "      <td>5.000000</td>\n",
       "      <td>5.000000</td>\n",
       "      <td>-80.577366</td>\n",
       "      <td>34.632093</td>\n",
       "      <td>1.000000</td>\n",
       "    </tr>\n",
       "  </tbody>\n",
       "</table>\n",
       "</div>"
      ],
      "text/plain": [
       "       FlightNumber   PayloadMass    Flights      Block  ReusedCount  \\\n",
       "count     90.000000     90.000000  90.000000  90.000000    90.000000   \n",
       "mean      45.500000   6104.959412   1.788889   3.500000     1.655556   \n",
       "std       26.124701   4694.671720   1.213172   1.595288     1.710254   \n",
       "min        1.000000    350.000000   1.000000   1.000000     0.000000   \n",
       "25%       23.250000   2510.750000   1.000000   2.000000     0.000000   \n",
       "50%       45.500000   4701.500000   1.000000   4.000000     1.000000   \n",
       "75%       67.750000   8912.750000   2.000000   5.000000     3.000000   \n",
       "max       90.000000  15600.000000   6.000000   5.000000     5.000000   \n",
       "\n",
       "        Longitude   Latitude      Class  \n",
       "count   90.000000  90.000000  90.000000  \n",
       "mean   -86.366477  29.449963   0.666667  \n",
       "std     14.149518   2.141306   0.474045  \n",
       "min   -120.610829  28.561857   0.000000  \n",
       "25%    -80.603956  28.561857   0.000000  \n",
       "50%    -80.577366  28.561857   1.000000  \n",
       "75%    -80.577366  28.608058   1.000000  \n",
       "max    -80.577366  34.632093   1.000000  "
      ]
     },
     "execution_count": 16,
     "metadata": {},
     "output_type": "execute_result"
    }
   ],
   "source": [
    "\n",
    "## Statistical infos about Data \n",
    "\n",
    "df.describe()"
   ]
  },
  {
   "cell_type": "markdown",
   "id": "10ab9a7a-5c13-4ce4-8e42-db300ba2b519",
   "metadata": {},
   "source": [
    "\n",
    "## Exploratory Data Analysis\n",
    "\n",
    "\n"
   ]
  },
  {
   "cell_type": "code",
   "execution_count": 17,
   "id": "5c892905-c2da-4640-ab7c-63ad8172b382",
   "metadata": {},
   "outputs": [
    {
     "data": {
      "text/plain": [
       "0     Falcon 9\n",
       "1     Falcon 9\n",
       "2     Falcon 9\n",
       "3     Falcon 9\n",
       "4     Falcon 9\n",
       "        ...   \n",
       "85    Falcon 9\n",
       "86    Falcon 9\n",
       "87    Falcon 9\n",
       "88    Falcon 9\n",
       "89    Falcon 9\n",
       "Name: BoosterVersion, Length: 90, dtype: object"
      ]
     },
     "execution_count": 17,
     "metadata": {},
     "output_type": "execute_result"
    }
   ],
   "source": [
    "\n",
    "## BoosterVersion: The model or version of the Falcon rocket booster used.\n",
    "\n",
    "df['BoosterVersion']\n"
   ]
  },
  {
   "cell_type": "code",
   "execution_count": 18,
   "id": "3a2dbff4-2ace-4de5-9c6d-ecb7f3c9058f",
   "metadata": {},
   "outputs": [
    {
     "data": {
      "text/plain": [
       "{'Falcon 9'}"
      ]
     },
     "execution_count": 18,
     "metadata": {},
     "output_type": "execute_result"
    }
   ],
   "source": [
    "set(df['BoosterVersion'])"
   ]
  },
  {
   "cell_type": "markdown",
   "id": "8d31d220-bb11-4730-9031-1f2972cc6cdf",
   "metadata": {},
   "source": [
    "\n",
    "#### As We got set:  means that we have only one unique Falcon 9 for BoosterVersion.\n",
    "#### set has only unique values.\n",
    "#### all BoosterVersion are Falcon 9. \n"
   ]
  },
  {
   "cell_type": "code",
   "execution_count": 20,
   "id": "eb8937b7-5104-4328-926f-1ef6a401dd65",
   "metadata": {},
   "outputs": [
    {
     "data": {
      "text/plain": [
       "0      6104.959412\n",
       "1       525.000000\n",
       "2       677.000000\n",
       "3       500.000000\n",
       "4      3170.000000\n",
       "          ...     \n",
       "85    15400.000000\n",
       "86    15400.000000\n",
       "87    15400.000000\n",
       "88    15400.000000\n",
       "89     3681.000000\n",
       "Name: PayloadMass, Length: 90, dtype: float64"
      ]
     },
     "execution_count": 20,
     "metadata": {},
     "output_type": "execute_result"
    }
   ],
   "source": [
    "\n",
    "# PayloadMass: The mass (weight) of the payload carried by the rocket (in kilograms).\n",
    "\n",
    "df['PayloadMass']\n"
   ]
  },
  {
   "cell_type": "code",
   "execution_count": 21,
   "id": "625f3bf4-2cb4-4c3f-b8f4-ff5958fdb7bc",
   "metadata": {},
   "outputs": [
    {
     "data": {
      "text/plain": [
       "np.float64(350.0)"
      ]
     },
     "execution_count": 21,
     "metadata": {},
     "output_type": "execute_result"
    }
   ],
   "source": [
    "df['PayloadMass'].min()"
   ]
  },
  {
   "cell_type": "code",
   "execution_count": 22,
   "id": "fb2374b5-1010-4fb8-b76d-2aa913280bd7",
   "metadata": {},
   "outputs": [
    {
     "data": {
      "text/plain": [
       "np.float64(15600.0)"
      ]
     },
     "execution_count": 22,
     "metadata": {},
     "output_type": "execute_result"
    }
   ],
   "source": [
    "df['PayloadMass'].max()"
   ]
  },
  {
   "cell_type": "code",
   "execution_count": 23,
   "id": "3056ec2b-c372-4e37-b9b9-d4690a72d305",
   "metadata": {},
   "outputs": [
    {
     "data": {
      "text/plain": [
       "np.float64(6104.959411764707)"
      ]
     },
     "execution_count": 23,
     "metadata": {},
     "output_type": "execute_result"
    }
   ],
   "source": [
    "df['PayloadMass'].mean()"
   ]
  },
  {
   "cell_type": "code",
   "execution_count": 24,
   "id": "91c50f16-3e92-4d63-8823-c780135eff15",
   "metadata": {},
   "outputs": [
    {
     "data": {
      "text/plain": [
       "np.float64(4694.671719712727)"
      ]
     },
     "execution_count": 24,
     "metadata": {},
     "output_type": "execute_result"
    }
   ],
   "source": [
    "df['PayloadMass'].std()"
   ]
  },
  {
   "cell_type": "code",
   "execution_count": 25,
   "id": "668da914-785a-4991-ba4b-6c08be5ae6c5",
   "metadata": {},
   "outputs": [
    {
     "data": {
      "text/plain": [
       "count       90.000000\n",
       "mean      6104.959412\n",
       "std       4694.671720\n",
       "min        350.000000\n",
       "25%       2510.750000\n",
       "50%       4701.500000\n",
       "75%       8912.750000\n",
       "max      15600.000000\n",
       "Name: PayloadMass, dtype: float64"
      ]
     },
     "execution_count": 25,
     "metadata": {},
     "output_type": "execute_result"
    }
   ],
   "source": [
    "\n",
    "df['PayloadMass'].describe()"
   ]
  },
  {
   "cell_type": "markdown",
   "id": "50027a8a-1324-4ed5-84bb-c51536907f8a",
   "metadata": {},
   "source": [
    "\n",
    "##### 25% of payloads weigh ≤ 2510.75 kg (first quartile).\n",
    "##### Half of the payloads weigh ≤ 4701.5 kg. (Median)\n",
    "##### 75% of payloads weigh ≤ 8912.75 kg (third quartile).\n"
   ]
  },
  {
   "cell_type": "code",
   "execution_count": 27,
   "id": "06535ddb-977a-43e7-8f35-45bd2ad2ad3d",
   "metadata": {},
   "outputs": [
    {
     "data": {
      "text/html": [
       "<div>\n",
       "<style scoped>\n",
       "    .dataframe tbody tr th:only-of-type {\n",
       "        vertical-align: middle;\n",
       "    }\n",
       "\n",
       "    .dataframe tbody tr th {\n",
       "        vertical-align: top;\n",
       "    }\n",
       "\n",
       "    .dataframe thead th {\n",
       "        text-align: right;\n",
       "    }\n",
       "</style>\n",
       "<table border=\"1\" class=\"dataframe\">\n",
       "  <thead>\n",
       "    <tr style=\"text-align: right;\">\n",
       "      <th></th>\n",
       "      <th>FlightNumber</th>\n",
       "      <th>PayloadMass</th>\n",
       "      <th>Flights</th>\n",
       "      <th>Block</th>\n",
       "      <th>ReusedCount</th>\n",
       "      <th>Longitude</th>\n",
       "      <th>Latitude</th>\n",
       "      <th>Class</th>\n",
       "    </tr>\n",
       "  </thead>\n",
       "  <tbody>\n",
       "    <tr>\n",
       "      <th>count</th>\n",
       "      <td>90.000000</td>\n",
       "      <td>90.000000</td>\n",
       "      <td>90.000000</td>\n",
       "      <td>90.000000</td>\n",
       "      <td>90.000000</td>\n",
       "      <td>90.000000</td>\n",
       "      <td>90.000000</td>\n",
       "      <td>90.000000</td>\n",
       "    </tr>\n",
       "    <tr>\n",
       "      <th>mean</th>\n",
       "      <td>45.500000</td>\n",
       "      <td>6104.959412</td>\n",
       "      <td>1.788889</td>\n",
       "      <td>3.500000</td>\n",
       "      <td>1.655556</td>\n",
       "      <td>-86.366477</td>\n",
       "      <td>29.449963</td>\n",
       "      <td>0.666667</td>\n",
       "    </tr>\n",
       "    <tr>\n",
       "      <th>std</th>\n",
       "      <td>26.124701</td>\n",
       "      <td>4694.671720</td>\n",
       "      <td>1.213172</td>\n",
       "      <td>1.595288</td>\n",
       "      <td>1.710254</td>\n",
       "      <td>14.149518</td>\n",
       "      <td>2.141306</td>\n",
       "      <td>0.474045</td>\n",
       "    </tr>\n",
       "    <tr>\n",
       "      <th>min</th>\n",
       "      <td>1.000000</td>\n",
       "      <td>350.000000</td>\n",
       "      <td>1.000000</td>\n",
       "      <td>1.000000</td>\n",
       "      <td>0.000000</td>\n",
       "      <td>-120.610829</td>\n",
       "      <td>28.561857</td>\n",
       "      <td>0.000000</td>\n",
       "    </tr>\n",
       "    <tr>\n",
       "      <th>25%</th>\n",
       "      <td>23.250000</td>\n",
       "      <td>2510.750000</td>\n",
       "      <td>1.000000</td>\n",
       "      <td>2.000000</td>\n",
       "      <td>0.000000</td>\n",
       "      <td>-80.603956</td>\n",
       "      <td>28.561857</td>\n",
       "      <td>0.000000</td>\n",
       "    </tr>\n",
       "    <tr>\n",
       "      <th>50%</th>\n",
       "      <td>45.500000</td>\n",
       "      <td>4701.500000</td>\n",
       "      <td>1.000000</td>\n",
       "      <td>4.000000</td>\n",
       "      <td>1.000000</td>\n",
       "      <td>-80.577366</td>\n",
       "      <td>28.561857</td>\n",
       "      <td>1.000000</td>\n",
       "    </tr>\n",
       "    <tr>\n",
       "      <th>75%</th>\n",
       "      <td>67.750000</td>\n",
       "      <td>8912.750000</td>\n",
       "      <td>2.000000</td>\n",
       "      <td>5.000000</td>\n",
       "      <td>3.000000</td>\n",
       "      <td>-80.577366</td>\n",
       "      <td>28.608058</td>\n",
       "      <td>1.000000</td>\n",
       "    </tr>\n",
       "    <tr>\n",
       "      <th>max</th>\n",
       "      <td>90.000000</td>\n",
       "      <td>15600.000000</td>\n",
       "      <td>6.000000</td>\n",
       "      <td>5.000000</td>\n",
       "      <td>5.000000</td>\n",
       "      <td>-80.577366</td>\n",
       "      <td>34.632093</td>\n",
       "      <td>1.000000</td>\n",
       "    </tr>\n",
       "  </tbody>\n",
       "</table>\n",
       "</div>"
      ],
      "text/plain": [
       "       FlightNumber   PayloadMass    Flights      Block  ReusedCount  \\\n",
       "count     90.000000     90.000000  90.000000  90.000000    90.000000   \n",
       "mean      45.500000   6104.959412   1.788889   3.500000     1.655556   \n",
       "std       26.124701   4694.671720   1.213172   1.595288     1.710254   \n",
       "min        1.000000    350.000000   1.000000   1.000000     0.000000   \n",
       "25%       23.250000   2510.750000   1.000000   2.000000     0.000000   \n",
       "50%       45.500000   4701.500000   1.000000   4.000000     1.000000   \n",
       "75%       67.750000   8912.750000   2.000000   5.000000     3.000000   \n",
       "max       90.000000  15600.000000   6.000000   5.000000     5.000000   \n",
       "\n",
       "        Longitude   Latitude      Class  \n",
       "count   90.000000  90.000000  90.000000  \n",
       "mean   -86.366477  29.449963   0.666667  \n",
       "std     14.149518   2.141306   0.474045  \n",
       "min   -120.610829  28.561857   0.000000  \n",
       "25%    -80.603956  28.561857   0.000000  \n",
       "50%    -80.577366  28.561857   1.000000  \n",
       "75%    -80.577366  28.608058   1.000000  \n",
       "max    -80.577366  34.632093   1.000000  "
      ]
     },
     "execution_count": 27,
     "metadata": {},
     "output_type": "execute_result"
    }
   ],
   "source": [
    "df.describe()"
   ]
  },
  {
   "cell_type": "code",
   "execution_count": 28,
   "id": "2e6cb1bc-0de9-446b-9a70-5023017fdb39",
   "metadata": {},
   "outputs": [
    {
     "data": {
      "text/plain": [
       "<Axes: >"
      ]
     },
     "execution_count": 28,
     "metadata": {},
     "output_type": "execute_result"
    },
    {
     "data": {
      "image/png": "[encoded data removed]",
      "text/plain": [
       "<Figure size 640x480 with 1 Axes>"
      ]
     },
     "metadata": {},
     "output_type": "display_data"
    }
   ],
   "source": [
    "\n",
    "## EDA --> Histogran\n",
    "\n",
    "df['PayloadMass'].hist()"
   ]
  },
  {
   "cell_type": "code",
   "execution_count": 29,
   "id": "553f84fc-38d8-46cb-afce-18e46c595b38",
   "metadata": {},
   "outputs": [
    {
     "data": {
      "text/plain": [
       "array([[<Axes: title={'center': 'FlightNumber'}>,\n",
       "        <Axes: title={'center': 'PayloadMass'}>,\n",
       "        <Axes: title={'center': 'Flights'}>],\n",
       "       [<Axes: title={'center': 'Block'}>,\n",
       "        <Axes: title={'center': 'ReusedCount'}>,\n",
       "        <Axes: title={'center': 'Longitude'}>],\n",
       "       [<Axes: title={'center': 'Latitude'}>,\n",
       "        <Axes: title={'center': 'Class'}>, <Axes: >]], dtype=object)"
      ]
     },
     "execution_count": 29,
     "metadata": {},
     "output_type": "execute_result"
    },
    {
     "data": {
      "image/png": "[encoded data removed]",
      "text/plain": [
       "<Figure size 640x480 with 9 Axes>"
      ]
     },
     "metadata": {},
     "output_type": "display_data"
    }
   ],
   "source": [
    "\n",
    "df.hist()\n"
   ]
  },
  {
   "cell_type": "code",
   "execution_count": 30,
   "id": "0c4d8856-cf1b-47df-a5f4-0e3a083934ad",
   "metadata": {},
   "outputs": [
    {
     "data": {
      "text/plain": [
       "<Axes: >"
      ]
     },
     "execution_count": 30,
     "metadata": {},
     "output_type": "execute_result"
    },
    {
     "data": {
      "image/png": "[encoded data removed]",
      "text/plain": [
       "<Figure size 640x480 with 1 Axes>"
      ]
     },
     "metadata": {},
     "output_type": "display_data"
    }
   ],
   "source": [
    "\n",
    "df['PayloadMass'].plot()\n"
   ]
  },
  {
   "cell_type": "code",
   "execution_count": 31,
   "id": "cc7566df-2828-4d5d-9424-c7a3fc97fe99",
   "metadata": {},
   "outputs": [
    {
     "data": {
      "text/plain": [
       "0      LEO\n",
       "1      LEO\n",
       "2      ISS\n",
       "3       PO\n",
       "4      GTO\n",
       "      ... \n",
       "85    VLEO\n",
       "86    VLEO\n",
       "87    VLEO\n",
       "88    VLEO\n",
       "89     MEO\n",
       "Name: Orbit, Length: 90, dtype: object"
      ]
     },
     "execution_count": 31,
     "metadata": {},
     "output_type": "execute_result"
    }
   ],
   "source": [
    "\n",
    "# Orbit : The type of orbit the payload was placed into (e.g., LEO, GTO).\n",
    "\n",
    "df['Orbit']"
   ]
  },
  {
   "cell_type": "code",
   "execution_count": 32,
   "id": "1870574c-200c-42ec-9e19-00ef3e0ebe84",
   "metadata": {},
   "outputs": [
    {
     "data": {
      "text/plain": [
       "{'ES-L1', 'GEO', 'GTO', 'HEO', 'ISS', 'LEO', 'MEO', 'PO', 'SO', 'SSO', 'VLEO'}"
      ]
     },
     "execution_count": 32,
     "metadata": {},
     "output_type": "execute_result"
    }
   ],
   "source": [
    "\n",
    "## Different Categories of Orbit which payload was placed into (Unique)\n",
    "\n",
    "set(df['Orbit'])"
   ]
  },
  {
   "cell_type": "code",
   "execution_count": 33,
   "id": "4d24f4e3-c0f5-4df3-a044-c8955dd9b40b",
   "metadata": {},
   "outputs": [
    {
     "data": {
      "text/plain": [
       "11"
      ]
     },
     "execution_count": 33,
     "metadata": {},
     "output_type": "execute_result"
    }
   ],
   "source": [
    "len(set(df['Orbit']))"
   ]
  },
  {
   "cell_type": "markdown",
   "id": "63bf941c-1756-4c07-9623-ce9fe07d185b",
   "metadata": {},
   "source": [
    "#### We have 11 kinds of Orbits for landing."
   ]
  },
  {
   "cell_type": "code",
   "execution_count": 35,
   "id": "3d8888e8-f32b-422f-8e37-4c467b337991",
   "metadata": {},
   "outputs": [
    {
     "data": {
      "text/plain": [
       "Orbit\n",
       "GTO      27\n",
       "ISS      21\n",
       "VLEO     14\n",
       "PO        9\n",
       "LEO       7\n",
       "SSO       5\n",
       "MEO       3\n",
       "ES-L1     1\n",
       "HEO       1\n",
       "SO        1\n",
       "GEO       1\n",
       "Name: count, dtype: int64"
      ]
     },
     "execution_count": 35,
     "metadata": {},
     "output_type": "execute_result"
    }
   ],
   "source": [
    "\n",
    "## How many of each Orbit ---> .value_counts()\n",
    "\n",
    "df['Orbit'].value_counts()"
   ]
  },
  {
   "cell_type": "code",
   "execution_count": 36,
   "id": "c489d673-db36-4468-8cd7-36bbc6365a1c",
   "metadata": {},
   "outputs": [
    {
     "data": {
      "text/plain": [
       "<Axes: >"
      ]
     },
     "execution_count": 36,
     "metadata": {},
     "output_type": "execute_result"
    },
    {
     "data": {
      "image/png": "[encoded data removed]",
      "text/plain": [
       "<Figure size 640x480 with 1 Axes>"
      ]
     },
     "metadata": {},
     "output_type": "display_data"
    }
   ],
   "source": [
    "\n",
    "## Orbit is a Very Important Parameter for us.\n",
    "\n",
    "df['Orbit'].hist()"
   ]
  },
  {
   "cell_type": "markdown",
   "id": "22dfb2db-e3bf-4236-b6fc-e1903c3afa48",
   "metadata": {},
   "source": [
    "\n",
    "#### Our Target is to know whether this delivery is successful, so 'Class' column is our Target.\n",
    "#### successfully delivered --> Class ==1\n",
    "#### We can divide our DF to two DFs, One Class == 1, and another Class == 0.\n"
   ]
  },
  {
   "cell_type": "code",
   "execution_count": 37,
   "id": "bd71f538-8c43-4f55-a87f-ab186c03f457",
   "metadata": {},
   "outputs": [],
   "source": [
    "\n",
    "df_success = df[df['Class']== 1]\n"
   ]
  },
  {
   "cell_type": "code",
   "execution_count": 38,
   "id": "5b4c0233-0eed-4a1d-9b44-f3571091e3a0",
   "metadata": {},
   "outputs": [],
   "source": [
    "df_fail = df[df['Class']!= 1]"
   ]
  },
  {
   "cell_type": "code",
   "execution_count": 39,
   "id": "f9e0ff8b-afae-4de8-a00c-c4ae2c5430c0",
   "metadata": {},
   "outputs": [
    {
     "name": "stdout",
     "output_type": "stream",
     "text": [
      "<class 'pandas.core.frame.DataFrame'>\n",
      "Index: 60 entries, 6 to 89\n",
      "Data columns (total 18 columns):\n",
      " #   Column          Non-Null Count  Dtype  \n",
      "---  ------          --------------  -----  \n",
      " 0   FlightNumber    60 non-null     int64  \n",
      " 1   Date            60 non-null     object \n",
      " 2   BoosterVersion  60 non-null     object \n",
      " 3   PayloadMass     60 non-null     float64\n",
      " 4   Orbit           60 non-null     object \n",
      " 5   LaunchSite      60 non-null     object \n",
      " 6   Outcome         60 non-null     object \n",
      " 7   Flights         60 non-null     int64  \n",
      " 8   GridFins        60 non-null     bool   \n",
      " 9   Reused          60 non-null     bool   \n",
      " 10  Legs            60 non-null     bool   \n",
      " 11  LandingPad      55 non-null     object \n",
      " 12  Block           60 non-null     float64\n",
      " 13  ReusedCount     60 non-null     int64  \n",
      " 14  Serial          60 non-null     object \n",
      " 15  Longitude       60 non-null     float64\n",
      " 16  Latitude        60 non-null     float64\n",
      " 17  Class           60 non-null     int64  \n",
      "dtypes: bool(3), float64(4), int64(4), object(7)\n",
      "memory usage: 7.7+ KB\n"
     ]
    }
   ],
   "source": [
    "df_success.info()"
   ]
  },
  {
   "cell_type": "code",
   "execution_count": 40,
   "id": "1c6c138c-bc54-43ff-a513-33108c363d77",
   "metadata": {},
   "outputs": [
    {
     "data": {
      "text/plain": [
       "{1}"
      ]
     },
     "execution_count": 40,
     "metadata": {},
     "output_type": "execute_result"
    }
   ],
   "source": [
    "\n",
    "## Double check if Class == 1\n",
    "\n",
    "set(df_success['Class'])"
   ]
  },
  {
   "cell_type": "code",
   "execution_count": 41,
   "id": "2f99c584-1868-4e6c-b26e-fd08ad3c2436",
   "metadata": {},
   "outputs": [
    {
     "data": {
      "text/plain": [
       "{0}"
      ]
     },
     "execution_count": 41,
     "metadata": {},
     "output_type": "execute_result"
    }
   ],
   "source": [
    "\n",
    "## Also for Class == 0\n",
    "\n",
    "set(df_fail['Class'])"
   ]
  },
  {
   "cell_type": "code",
   "execution_count": 42,
   "id": "df640279-1939-4b0e-913a-64703c526dda",
   "metadata": {},
   "outputs": [
    {
     "data": {
      "text/plain": [
       "Orbit\n",
       "GTO      14\n",
       "ISS      13\n",
       "VLEO     12\n",
       "PO        6\n",
       "LEO       5\n",
       "SSO       5\n",
       "MEO       2\n",
       "ES-L1     1\n",
       "HEO       1\n",
       "GEO       1\n",
       "Name: count, dtype: int64"
      ]
     },
     "execution_count": 42,
     "metadata": {},
     "output_type": "execute_result"
    }
   ],
   "source": [
    "\n",
    "## Number of each Orbit in df_success\n",
    "\n",
    "df_success['Orbit'].value_counts()"
   ]
  },
  {
   "cell_type": "code",
   "execution_count": 43,
   "id": "3c72ec8d-765d-456b-989e-74867baeb88a",
   "metadata": {},
   "outputs": [
    {
     "data": {
      "text/plain": [
       "Orbit\n",
       "GTO     13\n",
       "ISS      8\n",
       "PO       3\n",
       "LEO      2\n",
       "VLEO     2\n",
       "MEO      1\n",
       "SO       1\n",
       "Name: count, dtype: int64"
      ]
     },
     "execution_count": 43,
     "metadata": {},
     "output_type": "execute_result"
    }
   ],
   "source": [
    "\n",
    "## Number of each Orbit in df_success\n",
    "\n",
    "df_fail['Orbit'].value_counts()"
   ]
  },
  {
   "cell_type": "code",
   "execution_count": 44,
   "id": "7a76b0df-253e-47c4-90ec-264970bc7e14",
   "metadata": {},
   "outputs": [
    {
     "data": {
      "text/plain": [
       "LaunchSite\n",
       "CCAFS SLC 40    55\n",
       "KSC LC 39A      22\n",
       "VAFB SLC 4E     13\n",
       "Name: count, dtype: int64"
      ]
     },
     "execution_count": 44,
     "metadata": {},
     "output_type": "execute_result"
    }
   ],
   "source": [
    "\n",
    "# LaunchSite : The physical location from which the rocket was launched.\n",
    "\n",
    "# Categorical\n",
    "\n",
    "df['LaunchSite'].value_counts()\n"
   ]
  },
  {
   "cell_type": "code",
   "execution_count": 45,
   "id": "d876bb72-9a31-448a-b6cb-6238276505ca",
   "metadata": {},
   "outputs": [
    {
     "data": {
      "text/plain": [
       "Outcome\n",
       "True ASDS      41\n",
       "None None      19\n",
       "True RTLS      14\n",
       "False ASDS      6\n",
       "True Ocean      5\n",
       "False Ocean     2\n",
       "None ASDS       2\n",
       "False RTLS      1\n",
       "Name: count, dtype: int64"
      ]
     },
     "execution_count": 45,
     "metadata": {},
     "output_type": "execute_result"
    }
   ],
   "source": [
    "\n",
    "# Outcome : The result of the mission (e.g., success, failure).\n",
    "\n",
    "df['Outcome'].value_counts()"
   ]
  },
  {
   "cell_type": "code",
   "execution_count": 46,
   "id": "6bcb0407-d903-49de-b723-3c78dd4fbebc",
   "metadata": {},
   "outputs": [
    {
     "data": {
      "text/plain": [
       "Outcome\n",
       "True ASDS     41\n",
       "True RTLS     14\n",
       "True Ocean     5\n",
       "Name: count, dtype: int64"
      ]
     },
     "execution_count": 46,
     "metadata": {},
     "output_type": "execute_result"
    }
   ],
   "source": [
    "\n",
    "## Double check it in Class == 1 \n",
    "\n",
    "df_success['Outcome'].value_counts()"
   ]
  },
  {
   "cell_type": "code",
   "execution_count": 47,
   "id": "d9f6783e-cfc1-4c33-935c-b8638f6be2e5",
   "metadata": {},
   "outputs": [
    {
     "data": {
      "text/plain": [
       "Outcome\n",
       "None None      19\n",
       "False ASDS      6\n",
       "False Ocean     2\n",
       "None ASDS       2\n",
       "False RTLS      1\n",
       "Name: count, dtype: int64"
      ]
     },
     "execution_count": 47,
     "metadata": {},
     "output_type": "execute_result"
    }
   ],
   "source": [
    "\n",
    "## Also for Class == 0\n",
    "\n",
    "df_fail['Outcome'].value_counts()"
   ]
  },
  {
   "cell_type": "code",
   "execution_count": 48,
   "id": "937112f2-c984-46d3-a0f4-a0e23c932786",
   "metadata": {},
   "outputs": [
    {
     "data": {
      "text/plain": [
       "Flights\n",
       "1    53\n",
       "2    19\n",
       "3     8\n",
       "4     6\n",
       "5     2\n",
       "6     2\n",
       "Name: count, dtype: int64"
      ]
     },
     "execution_count": 48,
     "metadata": {},
     "output_type": "execute_result"
    }
   ],
   "source": [
    "\n",
    "# Flights : The number of times the same booster has been used in previous launches.\n",
    "\n",
    "df['Flights'].value_counts()\n"
   ]
  },
  {
   "cell_type": "code",
   "execution_count": 49,
   "id": "4eb49eed-df48-4af4-b222-68d62b700d9a",
   "metadata": {},
   "outputs": [
    {
     "data": {
      "text/plain": [
       "<Axes: >"
      ]
     },
     "execution_count": 49,
     "metadata": {},
     "output_type": "execute_result"
    },
    {
     "data": {
      "image/png": "[encoded data removed]",
      "text/plain": [
       "<Figure size 640x480 with 1 Axes>"
      ]
     },
     "metadata": {},
     "output_type": "display_data"
    }
   ],
   "source": [
    "\n",
    "df['Flights'].hist()\n"
   ]
  },
  {
   "cell_type": "markdown",
   "id": "daf967d1-9fa7-4407-94ed-5db758d1b4bb",
   "metadata": {},
   "source": [
    "\n",
    "#### GridFins, Reused and Legs type are boolean.\n"
   ]
  },
  {
   "cell_type": "code",
   "execution_count": 51,
   "id": "d93b5dd8-8372-4ed5-b990-1c43c35931f4",
   "metadata": {},
   "outputs": [
    {
     "data": {
      "text/plain": [
       "GridFins\n",
       "True     70\n",
       "False    20\n",
       "Name: count, dtype: int64"
      ]
     },
     "execution_count": 51,
     "metadata": {},
     "output_type": "execute_result"
    }
   ],
   "source": [
    "\n",
    "# GridFins : Indicates whether the rocket used grid fins for steering during landing (Yes/No or 1/0).\n",
    "\n",
    "df['GridFins'].value_counts()\n"
   ]
  },
  {
   "cell_type": "code",
   "execution_count": 52,
   "id": "5f914ef9-ef73-4faa-97d6-065a9c3465a4",
   "metadata": {},
   "outputs": [
    {
     "data": {
      "text/plain": [
       "Reused\n",
       "False    53\n",
       "True     37\n",
       "Name: count, dtype: int64"
      ]
     },
     "execution_count": 52,
     "metadata": {},
     "output_type": "execute_result"
    }
   ],
   "source": [
    "\n",
    "# Reused : Shows if the booster was reused from a previous mission.\n",
    "\n",
    "df['Reused'].value_counts()\n"
   ]
  },
  {
   "cell_type": "code",
   "execution_count": 53,
   "id": "9fda67d0-c2d2-46dd-a99d-213bf83c4525",
   "metadata": {},
   "outputs": [
    {
     "data": {
      "text/plain": [
       "Legs\n",
       "True     71\n",
       "False    19\n",
       "Name: count, dtype: int64"
      ]
     },
     "execution_count": 53,
     "metadata": {},
     "output_type": "execute_result"
    }
   ],
   "source": [
    "\n",
    "# Legs : Whether the rocket had landing legs deployed.\n",
    "\n",
    "df['Legs'].value_counts()\n"
   ]
  },
  {
   "cell_type": "code",
   "execution_count": 54,
   "id": "9d5b18b5-0bc3-42b2-909c-84f2f12e685f",
   "metadata": {},
   "outputs": [
    {
     "data": {
      "text/plain": [
       "LandingPad\n",
       "5e9e3032383ecb6bb234e7ca    35\n",
       "5e9e3032383ecb267a34e7c7    13\n",
       "5e9e3033383ecbb9e534e7cc    12\n",
       "5e9e3032383ecb761634e7cb     2\n",
       "5e9e3032383ecb554034e7c9     2\n",
       "Name: count, dtype: int64"
      ]
     },
     "execution_count": 54,
     "metadata": {},
     "output_type": "execute_result"
    }
   ],
   "source": [
    "\n",
    "# LandingPad : The landing zone where the booster was intended to land.\n",
    "\n",
    "df['LandingPad'].value_counts()\n"
   ]
  },
  {
   "cell_type": "code",
   "execution_count": 55,
   "id": "6e1d23be-47b3-4864-90b2-ac5034f44c12",
   "metadata": {},
   "outputs": [
    {
     "data": {
      "text/plain": [
       "Block\n",
       "5.0    39\n",
       "1.0    19\n",
       "3.0    15\n",
       "4.0    11\n",
       "2.0     6\n",
       "Name: count, dtype: int64"
      ]
     },
     "execution_count": 55,
     "metadata": {},
     "output_type": "execute_result"
    }
   ],
   "source": [
    "\n",
    "# Block : The version block number of the Falcon booster (hardware upgrade level).\n",
    "\n",
    "df['Block'].value_counts()\n"
   ]
  },
  {
   "cell_type": "code",
   "execution_count": 56,
   "id": "fa630a92-e223-454d-9c36-f4a830d4d0f0",
   "metadata": {},
   "outputs": [
    {
     "data": {
      "text/plain": [
       "ReusedCount\n",
       "0    30\n",
       "1    24\n",
       "3    12\n",
       "5    11\n",
       "2     9\n",
       "4     4\n",
       "Name: count, dtype: int64"
      ]
     },
     "execution_count": 56,
     "metadata": {},
     "output_type": "execute_result"
    }
   ],
   "source": [
    "\n",
    "# ReusedCount : How many times the booster has been reused.\n",
    "\n",
    "df['ReusedCount'].value_counts()\n"
   ]
  },
  {
   "cell_type": "markdown",
   "id": "7cbc2ff8-3415-434d-a136-e1264472dace",
   "metadata": {},
   "source": [
    "#### 30 of them never reused, 24 of them reused once, ..."
   ]
  },
  {
   "cell_type": "code",
   "execution_count": 58,
   "id": "6bcd1733-4399-43e4-94f4-ecce36be45f5",
   "metadata": {},
   "outputs": [
    {
     "data": {
      "text/plain": [
       "Serial\n",
       "B1049    6\n",
       "B1051    5\n",
       "B1059    4\n",
       "B1056    4\n",
       "B1048    4\n",
       "B1046    4\n",
       "B1060    3\n",
       "B1058    3\n",
       "B1047    3\n",
       "B1031    2\n",
       "B1036    2\n",
       "B1021    2\n",
       "B1039    2\n",
       "B1035    2\n",
       "B1041    2\n",
       "B1029    2\n",
       "B1040    2\n",
       "B1045    2\n",
       "B1032    2\n",
       "B1042    1\n",
       "B1043    1\n",
       "B1038    1\n",
       "B1044    1\n",
       "B1037    1\n",
       "B1050    1\n",
       "B1054    1\n",
       "B1034    1\n",
       "B0003    1\n",
       "B1030    1\n",
       "B1013    1\n",
       "B0007    1\n",
       "B1003    1\n",
       "B1004    1\n",
       "B1005    1\n",
       "B1006    1\n",
       "B1007    1\n",
       "B1008    1\n",
       "B1011    1\n",
       "B1010    1\n",
       "B1012    1\n",
       "B1015    1\n",
       "B0005    1\n",
       "B1016    1\n",
       "B1018    1\n",
       "B1019    1\n",
       "B1017    1\n",
       "B1020    1\n",
       "B1022    1\n",
       "B1023    1\n",
       "B1025    1\n",
       "B1026    1\n",
       "B1028    1\n",
       "B1062    1\n",
       "Name: count, dtype: int64"
      ]
     },
     "execution_count": 58,
     "metadata": {},
     "output_type": "execute_result"
    }
   ],
   "source": [
    "\n",
    "# Serial : The unique serial number assigned to the booster.\n",
    "\n",
    "df['Serial'].value_counts()\n"
   ]
  },
  {
   "cell_type": "markdown",
   "id": "37b3e1bf-be64-4d53-b00f-7831355bcd0a",
   "metadata": {},
   "source": [
    "\n",
    "#### Longitude :  The longitude coordinate of the launch site.\n",
    "#### Latitude :   The latitude coordinate of the launch site.\n",
    "#### LaunchSite : The physical location from which the rocket was launched.\n"
   ]
  },
  {
   "cell_type": "code",
   "execution_count": 60,
   "id": "c9350054-71e4-4564-9b16-8f4c866d96d3",
   "metadata": {},
   "outputs": [
    {
     "data": {
      "text/plain": [
       "Longitude\n",
       "-80.577366     55\n",
       "-80.603956     22\n",
       "-120.610829    13\n",
       "Name: count, dtype: int64"
      ]
     },
     "execution_count": 60,
     "metadata": {},
     "output_type": "execute_result"
    }
   ],
   "source": [
    "df['Longitude'].value_counts()\n"
   ]
  },
  {
   "cell_type": "code",
   "execution_count": 61,
   "id": "7fe3a00b-1671-4d6f-aca8-333caa4b4427",
   "metadata": {},
   "outputs": [
    {
     "data": {
      "text/plain": [
       "Latitude\n",
       "28.561857    55\n",
       "28.608058    22\n",
       "34.632093    13\n",
       "Name: count, dtype: int64"
      ]
     },
     "execution_count": 61,
     "metadata": {},
     "output_type": "execute_result"
    }
   ],
   "source": [
    "df['Latitude'].value_counts()\n"
   ]
  },
  {
   "cell_type": "code",
   "execution_count": 62,
   "id": "ce5ec425-ed48-417c-aa0c-1e1802eaee82",
   "metadata": {},
   "outputs": [
    {
     "data": {
      "text/plain": [
       "LaunchSite\n",
       "CCAFS SLC 40    55\n",
       "KSC LC 39A      22\n",
       "VAFB SLC 4E     13\n",
       "Name: count, dtype: int64"
      ]
     },
     "execution_count": 62,
     "metadata": {},
     "output_type": "execute_result"
    }
   ],
   "source": [
    "df['LaunchSite'].value_counts()\n"
   ]
  },
  {
   "cell_type": "markdown",
   "id": "95b776fb-bf0d-4006-ab5c-72edc43b9792",
   "metadata": {},
   "source": [
    "\n",
    " The columns 'Longitude' and 'Latitude' have the same values as 'LaunchSite'\n",
    "(e.g., 55, 22, 13), representing the same geographical location.\n",
    "To avoid redundancy, we’ll remove 'Longitude' and 'Latitude' and keep only 'LaunchSite' in the dataset.\n",
    "\n",
    "We also want to remove Serial which does not make any influence in Target and the BoosterVersion which all was Falcon 9.\n",
    "\n"
   ]
  },
  {
   "cell_type": "code",
   "execution_count": 64,
   "id": "e491826b-5998-49af-b740-75bb1b85d255",
   "metadata": {},
   "outputs": [
    {
     "name": "stdout",
     "output_type": "stream",
     "text": [
      "<class 'pandas.core.frame.DataFrame'>\n",
      "RangeIndex: 90 entries, 0 to 89\n",
      "Data columns (total 14 columns):\n",
      " #   Column        Non-Null Count  Dtype  \n",
      "---  ------        --------------  -----  \n",
      " 0   FlightNumber  90 non-null     int64  \n",
      " 1   Date          90 non-null     object \n",
      " 2   PayloadMass   90 non-null     float64\n",
      " 3   Orbit         90 non-null     object \n",
      " 4   LaunchSite    90 non-null     object \n",
      " 5   Outcome       90 non-null     object \n",
      " 6   Flights       90 non-null     int64  \n",
      " 7   GridFins      90 non-null     bool   \n",
      " 8   Reused        90 non-null     bool   \n",
      " 9   Legs          90 non-null     bool   \n",
      " 10  LandingPad    64 non-null     object \n",
      " 11  Block         90 non-null     float64\n",
      " 12  ReusedCount   90 non-null     int64  \n",
      " 13  Class         90 non-null     int64  \n",
      "dtypes: bool(3), float64(2), int64(4), object(5)\n",
      "memory usage: 8.1+ KB\n"
     ]
    }
   ],
   "source": [
    "\n",
    "df = df.drop(['BoosterVersion', 'Serial', 'Longitude', 'Latitude'], axis = 1)\n",
    "\n",
    "df.info()\n"
   ]
  },
  {
   "cell_type": "markdown",
   "id": "3b65f9e2-5f84-480c-9849-b9faf270bd24",
   "metadata": {},
   "source": [
    "\n",
    "### We made a DF with 90 rows but 14 columns instead of 18.\n",
    "\n",
    "####  In this way we can save the time, as using new DF to run the codes takes less time.\n",
    "\n"
   ]
  },
  {
   "cell_type": "markdown",
   "id": "bef16d87-1c30-4f48-a990-0eafdd0735c6",
   "metadata": {},
   "source": [
    "\n",
    "### Visualising the Data\n",
    "\n",
    "\n",
    "!pip install matplotlib\n",
    "!pip install seaborn\n"
   ]
  },
  {
   "cell_type": "code",
   "execution_count": 67,
   "id": "fb6f7b47-a09a-4a12-86e2-600d2eddaea8",
   "metadata": {},
   "outputs": [],
   "source": [
    "\n",
    "import matplotlib.pyplot as plt\n",
    "\n",
    "import seaborn as sns\n",
    "\n",
    "%matplotlib inline\n"
   ]
  },
  {
   "cell_type": "code",
   "execution_count": 68,
   "id": "b5dadf09-048b-4a30-bd6e-cba309565e2d",
   "metadata": {},
   "outputs": [
    {
     "data": {
      "image/png": "[encoded data removed]",
      "text/plain": [
       "<Figure size 2558.88x500 with 1 Axes>"
      ]
     },
     "metadata": {},
     "output_type": "display_data"
    }
   ],
   "source": [
    "\n",
    "## Visualize the relationship between Flight Number and Payload Mass\n",
    "\n",
    "sns.catplot(y = \"PayloadMass\", x = \"FlightNumber\", hue = \"Class\", data = df, aspect = 5)\n",
    "plt.xlabel(\"Flight Number\",fontsize = 20)\n",
    "plt.ylabel(\"Pay load Mass (kg)\",fontsize = 20)\n",
    "plt.show()\n"
   ]
  },
  {
   "cell_type": "code",
   "execution_count": 69,
   "id": "c47ce266-b4a5-4ad4-b396-f9d80efe2bfb",
   "metadata": {},
   "outputs": [
    {
     "data": {
      "image/png": "[encoded data removed]",
      "text/plain": [
       "<Figure size 2558.88x500 with 1 Axes>"
      ]
     },
     "metadata": {},
     "output_type": "display_data"
    }
   ],
   "source": [
    "\n",
    "## Visualize the relationship between Flight Number and  Launch Site\n",
    "\n",
    "sns.catplot(y = \"LaunchSite\", x = \"FlightNumber\", hue = \"Class\", data = df, aspect = 5)\n",
    "plt.xlabel(\"Flight Number\",fontsize = 20)\n",
    "plt.ylabel(\"Launch Site\",fontsize = 20)\n",
    "plt.show()\n"
   ]
  },
  {
   "cell_type": "code",
   "execution_count": 70,
   "id": "b43a2ad5-883e-498c-91d2-4d89f58105a8",
   "metadata": {},
   "outputs": [
    {
     "data": {
      "image/png": "[encoded data removed]",
      "text/plain": [
       "<Figure size 2558.88x500 with 1 Axes>"
      ]
     },
     "metadata": {},
     "output_type": "display_data"
    }
   ],
   "source": [
    "\n",
    "## Visualize the relationship between Payload and Launch Site\n",
    "# Plot a scatter point chart with x axis to be Pay Load Mass (kg) and y axis to be the launch site, and hue to be the class value\n",
    "\n",
    "sns.catplot(y = \"PayloadMass\", x = \"LaunchSite\", hue = \"Class\" , data = df, aspect = 5)\n",
    "plt.xlabel(\"Launch Site\",fontsize = 20)\n",
    "plt.ylabel(\"Pay load Mass (kg)\",fontsize = 20)\n",
    "plt.show()\n",
    "       "
   ]
  },
  {
   "cell_type": "markdown",
   "id": "4f732600-57e4-4cd0-a63e-589697019992",
   "metadata": {},
   "source": [
    "\n",
    "### We had more payload in first launch site as we saw in previous plot that we had more flights in this launch site. \n",
    "#### First and third launch site had bigger payload, while second launch site had relatively less payload.\n"
   ]
  },
  {
   "cell_type": "code",
   "execution_count": 72,
   "id": "6cd3ab92-ad11-4132-ac64-f958b26175f9",
   "metadata": {},
   "outputs": [
    {
     "data": {
      "image/png": "[encoded data removed]",
      "text/plain": [
       "<Figure size 2648x500 with 1 Axes>"
      ]
     },
     "metadata": {},
     "output_type": "display_data"
    }
   ],
   "source": [
    "\n",
    "## Visualize the relationship between Flight Number and Orbit type\n",
    "# Plot a scatter point chart with x axis to be Flight Number and y axis to be Orbit type, and hue to be the launch Site\n",
    "sns.catplot(y = \"Orbit\", x = \"FlightNumber\", hue = \"LaunchSite\" , data = df, aspect = 5)\n",
    "plt.xlabel(\"Flight Number\",fontsize = 20)\n",
    "plt.ylabel(\"Orbit\",fontsize = 20)\n",
    "plt.show()\n"
   ]
  },
  {
   "cell_type": "code",
   "execution_count": 73,
   "id": "e7aeee43-fc54-4ee8-8581-d7783ed1034a",
   "metadata": {},
   "outputs": [
    {
     "data": {
      "text/plain": [
       "<seaborn.axisgrid.FacetGrid at 0x11fe0b750>"
      ]
     },
     "execution_count": 73,
     "metadata": {},
     "output_type": "execute_result"
    },
    {
     "data": {
      "image/png": "[encoded data removed]",
      "text/plain": [
       "<Figure size 500x500 with 1 Axes>"
      ]
     },
     "metadata": {},
     "output_type": "display_data"
    }
   ],
   "source": [
    "\n",
    "## Histogram\n",
    "\n",
    "sns.displot(df['PayloadMass'])\n"
   ]
  },
  {
   "cell_type": "markdown",
   "id": "c83a2187-27c2-454e-a22c-b97d87ef4eed",
   "metadata": {},
   "source": [
    "\n",
    "#### The minimum payload mass was 350 kg. \n",
    "#### From 350 to around 2,200 kg, there were about 16 to 17 launches with payloads in this range. \n",
    "#### In addition, there were almost 25 launches with payload masses between 2,200 and 4,200 kg.\n",
    "#### and so on. \n"
   ]
  },
  {
   "cell_type": "code",
   "execution_count": 75,
   "id": "dfd0dc80-224e-4776-b0e3-15f7b1cb86fd",
   "metadata": {},
   "outputs": [
    {
     "data": {
      "text/plain": [
       "<seaborn.axisgrid.FacetGrid at 0x11fed4410>"
      ]
     },
     "execution_count": 75,
     "metadata": {},
     "output_type": "execute_result"
    },
    {
     "data": {
      "image/png": "[encoded data removed]",
      "text/plain": [
       "<Figure size 500x500 with 1 Axes>"
      ]
     },
     "metadata": {},
     "output_type": "display_data"
    }
   ],
   "source": [
    "sns.displot(df['PayloadMass'], bins = 20)"
   ]
  },
  {
   "cell_type": "code",
   "execution_count": 76,
   "id": "f5a09e6d-cbea-47a1-a0c8-b906a61e2047",
   "metadata": {},
   "outputs": [
    {
     "data": {
      "text/plain": [
       "<Axes: xlabel='LaunchSite', ylabel='count'>"
      ]
     },
     "execution_count": 76,
     "metadata": {},
     "output_type": "execute_result"
    },
    {
     "data": {
      "image/png": "[encoded data removed]",
      "text/plain": [
       "<Figure size 640x480 with 1 Axes>"
      ]
     },
     "metadata": {},
     "output_type": "display_data"
    }
   ],
   "source": [
    "\n",
    "## Bar chart for Launch Site as a categorical data\n",
    "\n",
    "sns.countplot(x = 'LaunchSite', data = df )\n"
   ]
  },
  {
   "cell_type": "markdown",
   "id": "b7ce4af5-b257-4cce-92e1-fe344882297a",
   "metadata": {},
   "source": [
    "\n",
    "\n",
    "\n",
    "## 5) Data Preparation \n",
    "\n",
    "#### The data we receive is raw data. We need to transform it into usable data that can give us meaningful results or insights. \n",
    "#### This is where we use some of our Data Science skills to prepare the data for the outcomes we want to achieve.\n",
    "\n",
    "#### Data Pre-processing\n",
    "We aim to use this data to train and fit our ML models.\n",
    "Since machine learning models rely on mathematical relationships and formulas, we need numerical data to process.\n",
    "Therefore, categorical values must be converted into numerical ones.\n",
    "Furthermore, there should be no missing values in the dataset.\n",
    "\n"
   ]
  },
  {
   "cell_type": "code",
   "execution_count": 78,
   "id": "c7f6c1b8-f51b-47db-9b8c-22c87aabb3f5",
   "metadata": {},
   "outputs": [
    {
     "name": "stdout",
     "output_type": "stream",
     "text": [
      "Requirement already satisfied: openpyxl in /Library/Frameworks/Python.framework/Versions/3.13/lib/python3.13/site-packages (3.1.5)\n",
      "Requirement already satisfied: et-xmlfile in /Library/Frameworks/Python.framework/Versions/3.13/lib/python3.13/site-packages (from openpyxl) (2.0.0)\n"
     ]
    }
   ],
   "source": [
    "\n",
    "## Here, we’ll practice how to manage a raw dataset:\n",
    "\n",
    "!pip3 install openpyxl\n",
    "\n",
    "import pandas as pd\n",
    "\n",
    "df_missing = pd.read_excel('/Users/taherehehsan/missing_dataset_falcon9.xlsx')\n"
   ]
  },
  {
   "cell_type": "code",
   "execution_count": 79,
   "id": "c5f3de75-0da5-44d9-beae-71de6e15a684",
   "metadata": {},
   "outputs": [
    {
     "data": {
      "text/html": [
       "<div>\n",
       "<style scoped>\n",
       "    .dataframe tbody tr th:only-of-type {\n",
       "        vertical-align: middle;\n",
       "    }\n",
       "\n",
       "    .dataframe tbody tr th {\n",
       "        vertical-align: top;\n",
       "    }\n",
       "\n",
       "    .dataframe thead th {\n",
       "        text-align: right;\n",
       "    }\n",
       "</style>\n",
       "<table border=\"1\" class=\"dataframe\">\n",
       "  <thead>\n",
       "    <tr style=\"text-align: right;\">\n",
       "      <th></th>\n",
       "      <th>FlightNumber</th>\n",
       "      <th>Date</th>\n",
       "      <th>BoosterVersion</th>\n",
       "      <th>PayloadMass</th>\n",
       "      <th>Orbit</th>\n",
       "      <th>LaunchSite</th>\n",
       "      <th>Outcome</th>\n",
       "      <th>Flights</th>\n",
       "      <th>GridFins</th>\n",
       "      <th>Reused</th>\n",
       "      <th>Legs</th>\n",
       "      <th>LandingPad</th>\n",
       "      <th>Block</th>\n",
       "      <th>ReusedCount</th>\n",
       "      <th>Serial</th>\n",
       "      <th>Longitude</th>\n",
       "      <th>Latitude</th>\n",
       "      <th>Class</th>\n",
       "    </tr>\n",
       "  </thead>\n",
       "  <tbody>\n",
       "    <tr>\n",
       "      <th>0</th>\n",
       "      <td>1</td>\n",
       "      <td>2010-06-04</td>\n",
       "      <td>Falcon 9</td>\n",
       "      <td>6104.959412</td>\n",
       "      <td>LEO</td>\n",
       "      <td>CCAFS SLC 40</td>\n",
       "      <td>None None</td>\n",
       "      <td>1</td>\n",
       "      <td>False</td>\n",
       "      <td>False</td>\n",
       "      <td>False</td>\n",
       "      <td>NaN</td>\n",
       "      <td>1</td>\n",
       "      <td>0</td>\n",
       "      <td>B0003</td>\n",
       "      <td>-80.577366</td>\n",
       "      <td>28.561857</td>\n",
       "      <td>0</td>\n",
       "    </tr>\n",
       "    <tr>\n",
       "      <th>1</th>\n",
       "      <td>2</td>\n",
       "      <td>2012-05-22</td>\n",
       "      <td>Falcon 9</td>\n",
       "      <td>525.000000</td>\n",
       "      <td>LEO</td>\n",
       "      <td>CCAFS SLC 40</td>\n",
       "      <td>None None</td>\n",
       "      <td>1</td>\n",
       "      <td>False</td>\n",
       "      <td>False</td>\n",
       "      <td>False</td>\n",
       "      <td>NaN</td>\n",
       "      <td>1</td>\n",
       "      <td>0</td>\n",
       "      <td>B0005</td>\n",
       "      <td>-80.577366</td>\n",
       "      <td>28.561857</td>\n",
       "      <td>0</td>\n",
       "    </tr>\n",
       "    <tr>\n",
       "      <th>2</th>\n",
       "      <td>3</td>\n",
       "      <td>2013-03-01</td>\n",
       "      <td>Falcon 9</td>\n",
       "      <td>677.000000</td>\n",
       "      <td>ISS</td>\n",
       "      <td>CCAFS SLC 40</td>\n",
       "      <td>None None</td>\n",
       "      <td>1</td>\n",
       "      <td>False</td>\n",
       "      <td>False</td>\n",
       "      <td>False</td>\n",
       "      <td>NaN</td>\n",
       "      <td>1</td>\n",
       "      <td>0</td>\n",
       "      <td>B0007</td>\n",
       "      <td>-80.577366</td>\n",
       "      <td>28.561857</td>\n",
       "      <td>0</td>\n",
       "    </tr>\n",
       "    <tr>\n",
       "      <th>3</th>\n",
       "      <td>4</td>\n",
       "      <td>2013-09-29</td>\n",
       "      <td>Falcon 9</td>\n",
       "      <td>NaN</td>\n",
       "      <td>PO</td>\n",
       "      <td>VAFB SLC 4E</td>\n",
       "      <td>False Ocean</td>\n",
       "      <td>1</td>\n",
       "      <td>False</td>\n",
       "      <td>False</td>\n",
       "      <td>False</td>\n",
       "      <td>NaN</td>\n",
       "      <td>1</td>\n",
       "      <td>0</td>\n",
       "      <td>B1003</td>\n",
       "      <td>-120.610829</td>\n",
       "      <td>34.632093</td>\n",
       "      <td>0</td>\n",
       "    </tr>\n",
       "    <tr>\n",
       "      <th>4</th>\n",
       "      <td>5</td>\n",
       "      <td>2013-12-03</td>\n",
       "      <td>Falcon 9</td>\n",
       "      <td>3170.000000</td>\n",
       "      <td>GTO</td>\n",
       "      <td>NaN</td>\n",
       "      <td>None None</td>\n",
       "      <td>1</td>\n",
       "      <td>False</td>\n",
       "      <td>False</td>\n",
       "      <td>False</td>\n",
       "      <td>NaN</td>\n",
       "      <td>1</td>\n",
       "      <td>0</td>\n",
       "      <td>B1004</td>\n",
       "      <td>-80.577366</td>\n",
       "      <td>28.561857</td>\n",
       "      <td>0</td>\n",
       "    </tr>\n",
       "    <tr>\n",
       "      <th>...</th>\n",
       "      <td>...</td>\n",
       "      <td>...</td>\n",
       "      <td>...</td>\n",
       "      <td>...</td>\n",
       "      <td>...</td>\n",
       "      <td>...</td>\n",
       "      <td>...</td>\n",
       "      <td>...</td>\n",
       "      <td>...</td>\n",
       "      <td>...</td>\n",
       "      <td>...</td>\n",
       "      <td>...</td>\n",
       "      <td>...</td>\n",
       "      <td>...</td>\n",
       "      <td>...</td>\n",
       "      <td>...</td>\n",
       "      <td>...</td>\n",
       "      <td>...</td>\n",
       "    </tr>\n",
       "    <tr>\n",
       "      <th>85</th>\n",
       "      <td>86</td>\n",
       "      <td>2020-09-03</td>\n",
       "      <td>Falcon 9</td>\n",
       "      <td>15400.000000</td>\n",
       "      <td>VLEO</td>\n",
       "      <td>KSC LC 39A</td>\n",
       "      <td>True ASDS</td>\n",
       "      <td>2</td>\n",
       "      <td>True</td>\n",
       "      <td>True</td>\n",
       "      <td>True</td>\n",
       "      <td>5e9e3032383ecb6bb234e7ca</td>\n",
       "      <td>5</td>\n",
       "      <td>2</td>\n",
       "      <td>B1060</td>\n",
       "      <td>-80.603956</td>\n",
       "      <td>28.608058</td>\n",
       "      <td>1</td>\n",
       "    </tr>\n",
       "    <tr>\n",
       "      <th>86</th>\n",
       "      <td>87</td>\n",
       "      <td>2020-10-06</td>\n",
       "      <td>Falcon 9</td>\n",
       "      <td>15400.000000</td>\n",
       "      <td>VLEO</td>\n",
       "      <td>KSC LC 39A</td>\n",
       "      <td>True ASDS</td>\n",
       "      <td>3</td>\n",
       "      <td>True</td>\n",
       "      <td>True</td>\n",
       "      <td>True</td>\n",
       "      <td>5e9e3032383ecb6bb234e7ca</td>\n",
       "      <td>5</td>\n",
       "      <td>2</td>\n",
       "      <td>B1058</td>\n",
       "      <td>-80.603956</td>\n",
       "      <td>28.608058</td>\n",
       "      <td>1</td>\n",
       "    </tr>\n",
       "    <tr>\n",
       "      <th>87</th>\n",
       "      <td>88</td>\n",
       "      <td>2020-10-18</td>\n",
       "      <td>Falcon 9</td>\n",
       "      <td>15400.000000</td>\n",
       "      <td>VLEO</td>\n",
       "      <td>KSC LC 39A</td>\n",
       "      <td>True ASDS</td>\n",
       "      <td>6</td>\n",
       "      <td>True</td>\n",
       "      <td>True</td>\n",
       "      <td>True</td>\n",
       "      <td>5e9e3032383ecb6bb234e7ca</td>\n",
       "      <td>5</td>\n",
       "      <td>5</td>\n",
       "      <td>B1051</td>\n",
       "      <td>-80.603956</td>\n",
       "      <td>28.608058</td>\n",
       "      <td>1</td>\n",
       "    </tr>\n",
       "    <tr>\n",
       "      <th>88</th>\n",
       "      <td>89</td>\n",
       "      <td>2020-10-24</td>\n",
       "      <td>Falcon 9</td>\n",
       "      <td>15400.000000</td>\n",
       "      <td>VLEO</td>\n",
       "      <td>CCAFS SLC 40</td>\n",
       "      <td>True ASDS</td>\n",
       "      <td>3</td>\n",
       "      <td>True</td>\n",
       "      <td>True</td>\n",
       "      <td>True</td>\n",
       "      <td>5e9e3033383ecbb9e534e7cc</td>\n",
       "      <td>5</td>\n",
       "      <td>2</td>\n",
       "      <td>B1060</td>\n",
       "      <td>-80.577366</td>\n",
       "      <td>28.561857</td>\n",
       "      <td>1</td>\n",
       "    </tr>\n",
       "    <tr>\n",
       "      <th>89</th>\n",
       "      <td>90</td>\n",
       "      <td>2020-11-05</td>\n",
       "      <td>Falcon 9</td>\n",
       "      <td>3681.000000</td>\n",
       "      <td>MEO</td>\n",
       "      <td>CCAFS SLC 40</td>\n",
       "      <td>True ASDS</td>\n",
       "      <td>1</td>\n",
       "      <td>True</td>\n",
       "      <td>False</td>\n",
       "      <td>True</td>\n",
       "      <td>5e9e3032383ecb6bb234e7ca</td>\n",
       "      <td>5</td>\n",
       "      <td>0</td>\n",
       "      <td>B1062</td>\n",
       "      <td>-80.577366</td>\n",
       "      <td>28.561857</td>\n",
       "      <td>1</td>\n",
       "    </tr>\n",
       "  </tbody>\n",
       "</table>\n",
       "<p>90 rows × 18 columns</p>\n",
       "</div>"
      ],
      "text/plain": [
       "    FlightNumber       Date BoosterVersion   PayloadMass Orbit    LaunchSite  \\\n",
       "0              1 2010-06-04       Falcon 9   6104.959412   LEO  CCAFS SLC 40   \n",
       "1              2 2012-05-22       Falcon 9    525.000000   LEO  CCAFS SLC 40   \n",
       "2              3 2013-03-01       Falcon 9    677.000000   ISS  CCAFS SLC 40   \n",
       "3              4 2013-09-29       Falcon 9           NaN    PO   VAFB SLC 4E   \n",
       "4              5 2013-12-03       Falcon 9   3170.000000   GTO           NaN   \n",
       "..           ...        ...            ...           ...   ...           ...   \n",
       "85            86 2020-09-03       Falcon 9  15400.000000  VLEO    KSC LC 39A   \n",
       "86            87 2020-10-06       Falcon 9  15400.000000  VLEO    KSC LC 39A   \n",
       "87            88 2020-10-18       Falcon 9  15400.000000  VLEO    KSC LC 39A   \n",
       "88            89 2020-10-24       Falcon 9  15400.000000  VLEO  CCAFS SLC 40   \n",
       "89            90 2020-11-05       Falcon 9   3681.000000   MEO  CCAFS SLC 40   \n",
       "\n",
       "        Outcome  Flights  GridFins  Reused   Legs                LandingPad  \\\n",
       "0     None None        1     False   False  False                       NaN   \n",
       "1     None None        1     False   False  False                       NaN   \n",
       "2     None None        1     False   False  False                       NaN   \n",
       "3   False Ocean        1     False   False  False                       NaN   \n",
       "4     None None        1     False   False  False                       NaN   \n",
       "..          ...      ...       ...     ...    ...                       ...   \n",
       "85    True ASDS        2      True    True   True  5e9e3032383ecb6bb234e7ca   \n",
       "86    True ASDS        3      True    True   True  5e9e3032383ecb6bb234e7ca   \n",
       "87    True ASDS        6      True    True   True  5e9e3032383ecb6bb234e7ca   \n",
       "88    True ASDS        3      True    True   True  5e9e3033383ecbb9e534e7cc   \n",
       "89    True ASDS        1      True   False   True  5e9e3032383ecb6bb234e7ca   \n",
       "\n",
       "    Block  ReusedCount Serial   Longitude   Latitude  Class  \n",
       "0       1            0  B0003  -80.577366  28.561857      0  \n",
       "1       1            0  B0005  -80.577366  28.561857      0  \n",
       "2       1            0  B0007  -80.577366  28.561857      0  \n",
       "3       1            0  B1003 -120.610829  34.632093      0  \n",
       "4       1            0  B1004  -80.577366  28.561857      0  \n",
       "..    ...          ...    ...         ...        ...    ...  \n",
       "85      5            2  B1060  -80.603956  28.608058      1  \n",
       "86      5            2  B1058  -80.603956  28.608058      1  \n",
       "87      5            5  B1051  -80.603956  28.608058      1  \n",
       "88      5            2  B1060  -80.577366  28.561857      1  \n",
       "89      5            0  B1062  -80.577366  28.561857      1  \n",
       "\n",
       "[90 rows x 18 columns]"
      ]
     },
     "execution_count": 79,
     "metadata": {},
     "output_type": "execute_result"
    }
   ],
   "source": [
    "df_missing"
   ]
  },
  {
   "cell_type": "code",
   "execution_count": 80,
   "id": "6e87c54e-c4ef-4303-bd4b-fcaf4bfe9ea9",
   "metadata": {},
   "outputs": [
    {
     "name": "stdout",
     "output_type": "stream",
     "text": [
      "<class 'pandas.core.frame.DataFrame'>\n",
      "RangeIndex: 90 entries, 0 to 89\n",
      "Data columns (total 18 columns):\n",
      " #   Column          Non-Null Count  Dtype         \n",
      "---  ------          --------------  -----         \n",
      " 0   FlightNumber    90 non-null     int64         \n",
      " 1   Date            90 non-null     datetime64[ns]\n",
      " 2   BoosterVersion  90 non-null     object        \n",
      " 3   PayloadMass     81 non-null     float64       \n",
      " 4   Orbit           90 non-null     object        \n",
      " 5   LaunchSite      86 non-null     object        \n",
      " 6   Outcome         90 non-null     object        \n",
      " 7   Flights         90 non-null     int64         \n",
      " 8   GridFins        90 non-null     bool          \n",
      " 9   Reused          90 non-null     bool          \n",
      " 10  Legs            90 non-null     bool          \n",
      " 11  LandingPad      64 non-null     object        \n",
      " 12  Block           90 non-null     int64         \n",
      " 13  ReusedCount     90 non-null     int64         \n",
      " 14  Serial          90 non-null     object        \n",
      " 15  Longitude       90 non-null     float64       \n",
      " 16  Latitude        90 non-null     float64       \n",
      " 17  Class           90 non-null     int64         \n",
      "dtypes: bool(3), datetime64[ns](1), float64(3), int64(5), object(6)\n",
      "memory usage: 10.9+ KB\n"
     ]
    }
   ],
   "source": [
    "df_missing.info()"
   ]
  },
  {
   "cell_type": "markdown",
   "id": "f30937f2-03ec-497c-9e1e-1a0a0f3eb819",
   "metadata": {},
   "source": [
    "\n",
    "##### PayloadMass has 81 non-null, means 9 missed value.\n",
    "##### LaunchSite has 86 non-null, means 4 null value.\n",
    "##### LandingPad has 64 non-null,  means 26 null value.     \n",
    "\n",
    "\n",
    "\n",
    "\n",
    "### How to deal with missing data\n",
    "\n",
    "### Droping Data\n",
    "\n",
    "\n",
    "### a) Drop the whole row\n"
   ]
  },
  {
   "cell_type": "code",
   "execution_count": 82,
   "id": "a14ef1b1-fe72-49f6-a4c4-4a7a5d95c590",
   "metadata": {},
   "outputs": [
    {
     "name": "stdout",
     "output_type": "stream",
     "text": [
      "<class 'pandas.core.frame.DataFrame'>\n",
      "Index: 58 entries, 13 to 89\n",
      "Data columns (total 18 columns):\n",
      " #   Column          Non-Null Count  Dtype         \n",
      "---  ------          --------------  -----         \n",
      " 0   FlightNumber    58 non-null     int64         \n",
      " 1   Date            58 non-null     datetime64[ns]\n",
      " 2   BoosterVersion  58 non-null     object        \n",
      " 3   PayloadMass     58 non-null     float64       \n",
      " 4   Orbit           58 non-null     object        \n",
      " 5   LaunchSite      58 non-null     object        \n",
      " 6   Outcome         58 non-null     object        \n",
      " 7   Flights         58 non-null     int64         \n",
      " 8   GridFins        58 non-null     bool          \n",
      " 9   Reused          58 non-null     bool          \n",
      " 10  Legs            58 non-null     bool          \n",
      " 11  LandingPad      58 non-null     object        \n",
      " 12  Block           58 non-null     int64         \n",
      " 13  ReusedCount     58 non-null     int64         \n",
      " 14  Serial          58 non-null     object        \n",
      " 15  Longitude       58 non-null     float64       \n",
      " 16  Latitude        58 non-null     float64       \n",
      " 17  Class           58 non-null     int64         \n",
      "dtypes: bool(3), datetime64[ns](1), float64(3), int64(5), object(6)\n",
      "memory usage: 7.4+ KB\n"
     ]
    }
   ],
   "source": [
    "\n",
    "df_row = df_missing.dropna(axis = 0)\n",
    "\n",
    "df_row.info()"
   ]
  },
  {
   "cell_type": "markdown",
   "id": "c1170d13-9760-419f-a35f-eb8809f0416a",
   "metadata": {},
   "source": [
    "\n",
    "#### It is not a good idea, becaused we missed almost 40% of our data.\n",
    "\n",
    "\n",
    "\n",
    "### b) Drop the whole Column\n"
   ]
  },
  {
   "cell_type": "code",
   "execution_count": 84,
   "id": "799f153b-6828-4b97-9792-5b9617ad4c4b",
   "metadata": {},
   "outputs": [
    {
     "name": "stdout",
     "output_type": "stream",
     "text": [
      "<class 'pandas.core.frame.DataFrame'>\n",
      "RangeIndex: 90 entries, 0 to 89\n",
      "Data columns (total 15 columns):\n",
      " #   Column          Non-Null Count  Dtype         \n",
      "---  ------          --------------  -----         \n",
      " 0   FlightNumber    90 non-null     int64         \n",
      " 1   Date            90 non-null     datetime64[ns]\n",
      " 2   BoosterVersion  90 non-null     object        \n",
      " 3   Orbit           90 non-null     object        \n",
      " 4   Outcome         90 non-null     object        \n",
      " 5   Flights         90 non-null     int64         \n",
      " 6   GridFins        90 non-null     bool          \n",
      " 7   Reused          90 non-null     bool          \n",
      " 8   Legs            90 non-null     bool          \n",
      " 9   Block           90 non-null     int64         \n",
      " 10  ReusedCount     90 non-null     int64         \n",
      " 11  Serial          90 non-null     object        \n",
      " 12  Longitude       90 non-null     float64       \n",
      " 13  Latitude        90 non-null     float64       \n",
      " 14  Class           90 non-null     int64         \n",
      "dtypes: bool(3), datetime64[ns](1), float64(2), int64(5), object(4)\n",
      "memory usage: 8.8+ KB\n"
     ]
    }
   ],
   "source": [
    "\n",
    "df_col = df_missing.dropna(axis = 1)\n",
    "\n",
    "df_col.info()\n"
   ]
  },
  {
   "cell_type": "markdown",
   "id": "531a4e07-e4ab-41d8-8ee0-38cc9cea73d1",
   "metadata": {},
   "source": [
    "\n",
    "#### If the column was a irrelated one we can easily remove them but if it would be important \n",
    "#### we cannot drop them. It is not a good idea, becaused we miss important features.\n"
   ]
  },
  {
   "cell_type": "markdown",
   "id": "82ade013-535a-4dc9-8359-cac21ab52350",
   "metadata": {},
   "source": [
    "\n",
    "### Replace Data\n",
    "\n",
    "### a) Replace it by mean ( If it is Numerical)"
   ]
  },
  {
   "cell_type": "code",
   "execution_count": 86,
   "id": "2a6f8afa-b348-4aec-8943-58d2d7339197",
   "metadata": {},
   "outputs": [
    {
     "data": {
      "text/plain": [
       "np.float64(6379.7368845315905)"
      ]
     },
     "execution_count": 86,
     "metadata": {},
     "output_type": "execute_result"
    }
   ],
   "source": [
    "\n",
    "payload_mean = df_missing['PayloadMass'].mean()\n",
    "\n",
    "payload_mean"
   ]
  },
  {
   "cell_type": "code",
   "execution_count": 87,
   "id": "6f417fab-2b4a-4966-b414-95765384089f",
   "metadata": {},
   "outputs": [
    {
     "data": {
      "text/plain": [
       "0      6104.959412\n",
       "1       525.000000\n",
       "2       677.000000\n",
       "3              NaN\n",
       "4      3170.000000\n",
       "          ...     \n",
       "85    15400.000000\n",
       "86    15400.000000\n",
       "87    15400.000000\n",
       "88    15400.000000\n",
       "89     3681.000000\n",
       "Name: PayloadMass, Length: 90, dtype: float64"
      ]
     },
     "execution_count": 87,
     "metadata": {},
     "output_type": "execute_result"
    }
   ],
   "source": [
    "\n",
    "df_missing['PayloadMass']\n"
   ]
  },
  {
   "cell_type": "markdown",
   "id": "0664d9de-22de-439d-8f6d-7152f6dcdf45",
   "metadata": {},
   "source": [
    "\n",
    "#### It is not high accurate way to replace it by mean, but for now it is applicable.\n",
    "\n",
    "#### Replace \"NaN\" with the mean value \n"
   ]
  },
  {
   "cell_type": "code",
   "execution_count": 89,
   "id": "3d3794a9-87ef-4b2e-b145-ff381c5bea29",
   "metadata": {},
   "outputs": [
    {
     "name": "stdout",
     "output_type": "stream",
     "text": [
      "Requirement already satisfied: numpy in /Library/Frameworks/Python.framework/Versions/3.13/lib/python3.13/site-packages (2.3.2)\n"
     ]
    }
   ],
   "source": [
    "\n",
    "!pip3 install numpy\n",
    "\n",
    "import numpy as np\n",
    "\n",
    "df_missing['PayloadMass']= df_missing['PayloadMass'].replace(np.nan, payload_mean)\n"
   ]
  },
  {
   "cell_type": "code",
   "execution_count": 90,
   "id": "6f1d504b-5ba8-4efa-a880-456864c6d7f5",
   "metadata": {},
   "outputs": [
    {
     "name": "stdout",
     "output_type": "stream",
     "text": [
      "<class 'pandas.core.frame.DataFrame'>\n",
      "RangeIndex: 90 entries, 0 to 89\n",
      "Data columns (total 18 columns):\n",
      " #   Column          Non-Null Count  Dtype         \n",
      "---  ------          --------------  -----         \n",
      " 0   FlightNumber    90 non-null     int64         \n",
      " 1   Date            90 non-null     datetime64[ns]\n",
      " 2   BoosterVersion  90 non-null     object        \n",
      " 3   PayloadMass     90 non-null     float64       \n",
      " 4   Orbit           90 non-null     object        \n",
      " 5   LaunchSite      86 non-null     object        \n",
      " 6   Outcome         90 non-null     object        \n",
      " 7   Flights         90 non-null     int64         \n",
      " 8   GridFins        90 non-null     bool          \n",
      " 9   Reused          90 non-null     bool          \n",
      " 10  Legs            90 non-null     bool          \n",
      " 11  LandingPad      64 non-null     object        \n",
      " 12  Block           90 non-null     int64         \n",
      " 13  ReusedCount     90 non-null     int64         \n",
      " 14  Serial          90 non-null     object        \n",
      " 15  Longitude       90 non-null     float64       \n",
      " 16  Latitude        90 non-null     float64       \n",
      " 17  Class           90 non-null     int64         \n",
      "dtypes: bool(3), datetime64[ns](1), float64(3), int64(5), object(6)\n",
      "memory usage: 10.9+ KB\n"
     ]
    }
   ],
   "source": [
    "\n",
    "df_missing.info()\n"
   ]
  },
  {
   "cell_type": "markdown",
   "id": "7836bfe0-bf45-47c8-a8b9-ff2cea6d3a77",
   "metadata": {},
   "source": [
    "\n",
    "### b) Replace it by freaquency ( If it is categorical)\n"
   ]
  },
  {
   "cell_type": "code",
   "execution_count": 91,
   "id": "c26d4c4b-eb58-40ae-9d15-760262a96c09",
   "metadata": {},
   "outputs": [
    {
     "data": {
      "text/plain": [
       "LaunchSite\n",
       "CCAFS SLC 40    53\n",
       "KSC LC 39A      20\n",
       "VAFB SLC 4E     13\n",
       "Name: count, dtype: int64"
      ]
     },
     "execution_count": 91,
     "metadata": {},
     "output_type": "execute_result"
    }
   ],
   "source": [
    "\n",
    "df_missing['LaunchSite'].value_counts()\n"
   ]
  },
  {
   "cell_type": "code",
   "execution_count": 92,
   "id": "6ff3b9d1-c994-4667-a1b0-ff4ff0f0dd97",
   "metadata": {},
   "outputs": [],
   "source": [
    "\n",
    "# CCAFS SLC 40 is repeated 53 times, so it is more feaquent.\n",
    "\n",
    "df_missing['LaunchSite'] = df_missing['LaunchSite'].replace(np.nan, 'CCAFS SLC 40')\n"
   ]
  },
  {
   "cell_type": "code",
   "execution_count": 93,
   "id": "4f513a99-7508-43b8-bc5f-b92597d45824",
   "metadata": {},
   "outputs": [
    {
     "name": "stdout",
     "output_type": "stream",
     "text": [
      "<class 'pandas.core.frame.DataFrame'>\n",
      "RangeIndex: 90 entries, 0 to 89\n",
      "Data columns (total 18 columns):\n",
      " #   Column          Non-Null Count  Dtype         \n",
      "---  ------          --------------  -----         \n",
      " 0   FlightNumber    90 non-null     int64         \n",
      " 1   Date            90 non-null     datetime64[ns]\n",
      " 2   BoosterVersion  90 non-null     object        \n",
      " 3   PayloadMass     90 non-null     float64       \n",
      " 4   Orbit           90 non-null     object        \n",
      " 5   LaunchSite      90 non-null     object        \n",
      " 6   Outcome         90 non-null     object        \n",
      " 7   Flights         90 non-null     int64         \n",
      " 8   GridFins        90 non-null     bool          \n",
      " 9   Reused          90 non-null     bool          \n",
      " 10  Legs            90 non-null     bool          \n",
      " 11  LandingPad      64 non-null     object        \n",
      " 12  Block           90 non-null     int64         \n",
      " 13  ReusedCount     90 non-null     int64         \n",
      " 14  Serial          90 non-null     object        \n",
      " 15  Longitude       90 non-null     float64       \n",
      " 16  Latitude        90 non-null     float64       \n",
      " 17  Class           90 non-null     int64         \n",
      "dtypes: bool(3), datetime64[ns](1), float64(3), int64(5), object(6)\n",
      "memory usage: 10.9+ KB\n"
     ]
    }
   ],
   "source": [
    "\n",
    "df_missing.info()\n"
   ]
  },
  {
   "cell_type": "markdown",
   "id": "4a61fb9e-ae46-409f-a0b0-a9d44653ddeb",
   "metadata": {},
   "source": [
    "\n",
    "\n",
    "\n",
    "#### Filling missing values using the mean or frequency is often easy, \n",
    "#### but it isn’t always accurate, precise, or even correct. \n",
    "#### Therefore, we should also consider other relevant factors or conditions\n",
    "#### before deciding how to handle missing data.\n",
    "\n",
    "#### for example if we consider LandingPad as categorical value so:\n",
    "\n"
   ]
  },
  {
   "cell_type": "code",
   "execution_count": 94,
   "id": "95379bbd-a3cc-4a1e-be38-a70854fe46ea",
   "metadata": {},
   "outputs": [
    {
     "data": {
      "text/plain": [
       "LandingPad\n",
       "5e9e3032383ecb6bb234e7ca    35\n",
       "5e9e3032383ecb267a34e7c7    13\n",
       "5e9e3033383ecbb9e534e7cc    12\n",
       "5e9e3032383ecb761634e7cb     2\n",
       "5e9e3032383ecb554034e7c9     2\n",
       "Name: count, dtype: int64"
      ]
     },
     "execution_count": 94,
     "metadata": {},
     "output_type": "execute_result"
    }
   ],
   "source": [
    "\n",
    "df_missing['LandingPad'].value_counts()\n"
   ]
  },
  {
   "cell_type": "code",
   "execution_count": 95,
   "id": "63e0a563-b108-4ef4-8c70-31ed993fa48e",
   "metadata": {},
   "outputs": [],
   "source": [
    "\n",
    "df_landingpad = df_missing[df_missing['LandingPad'] == '5e9e3032383ecb6bb234e7ca']\n"
   ]
  },
  {
   "cell_type": "code",
   "execution_count": 96,
   "id": "a113ca13-7147-459d-ab66-c2997316f7dd",
   "metadata": {},
   "outputs": [
    {
     "name": "stdout",
     "output_type": "stream",
     "text": [
      "<class 'pandas.core.frame.DataFrame'>\n",
      "Index: 35 entries, 15 to 89\n",
      "Data columns (total 18 columns):\n",
      " #   Column          Non-Null Count  Dtype         \n",
      "---  ------          --------------  -----         \n",
      " 0   FlightNumber    35 non-null     int64         \n",
      " 1   Date            35 non-null     datetime64[ns]\n",
      " 2   BoosterVersion  35 non-null     object        \n",
      " 3   PayloadMass     35 non-null     float64       \n",
      " 4   Orbit           35 non-null     object        \n",
      " 5   LaunchSite      35 non-null     object        \n",
      " 6   Outcome         35 non-null     object        \n",
      " 7   Flights         35 non-null     int64         \n",
      " 8   GridFins        35 non-null     bool          \n",
      " 9   Reused          35 non-null     bool          \n",
      " 10  Legs            35 non-null     bool          \n",
      " 11  LandingPad      35 non-null     object        \n",
      " 12  Block           35 non-null     int64         \n",
      " 13  ReusedCount     35 non-null     int64         \n",
      " 14  Serial          35 non-null     object        \n",
      " 15  Longitude       35 non-null     float64       \n",
      " 16  Latitude        35 non-null     float64       \n",
      " 17  Class           35 non-null     int64         \n",
      "dtypes: bool(3), datetime64[ns](1), float64(3), int64(5), object(6)\n",
      "memory usage: 4.5+ KB\n"
     ]
    }
   ],
   "source": [
    "\n",
    "df_landingpad.info()\n"
   ]
  },
  {
   "cell_type": "markdown",
   "id": "f722570a-74f7-47c7-9ef3-5078842d45bc",
   "metadata": {},
   "source": [
    "\n",
    "#### we have 61 rows as we extract 61 landingpads which were equel to 5e9e3032383ecb6bb234e7ca.\n",
    "\n",
    "#### How many unique orbits do they have? \n"
   ]
  },
  {
   "cell_type": "code",
   "execution_count": 97,
   "id": "06245689-108f-4c89-b902-558ad5029799",
   "metadata": {},
   "outputs": [
    {
     "data": {
      "text/plain": [
       "{'GTO', 'HEO', 'ISS', 'MEO', 'VLEO'}"
      ]
     },
     "execution_count": 97,
     "metadata": {},
     "output_type": "execute_result"
    }
   ],
   "source": [
    "\n",
    "set(df_landingpad['Orbit'])\n"
   ]
  },
  {
   "cell_type": "code",
   "execution_count": 98,
   "id": "3a9c8b3e-bb13-41ac-8a6b-c3c016342a99",
   "metadata": {},
   "outputs": [
    {
     "data": {
      "text/html": [
       "<div>\n",
       "<style scoped>\n",
       "    .dataframe tbody tr th:only-of-type {\n",
       "        vertical-align: middle;\n",
       "    }\n",
       "\n",
       "    .dataframe tbody tr th {\n",
       "        vertical-align: top;\n",
       "    }\n",
       "\n",
       "    .dataframe thead th {\n",
       "        text-align: right;\n",
       "    }\n",
       "</style>\n",
       "<table border=\"1\" class=\"dataframe\">\n",
       "  <thead>\n",
       "    <tr style=\"text-align: right;\">\n",
       "      <th></th>\n",
       "      <th>LandingPad</th>\n",
       "      <th>Orbit</th>\n",
       "    </tr>\n",
       "  </thead>\n",
       "  <tbody>\n",
       "    <tr>\n",
       "      <th>0</th>\n",
       "      <td>NaN</td>\n",
       "      <td>LEO</td>\n",
       "    </tr>\n",
       "    <tr>\n",
       "      <th>1</th>\n",
       "      <td>NaN</td>\n",
       "      <td>LEO</td>\n",
       "    </tr>\n",
       "    <tr>\n",
       "      <th>2</th>\n",
       "      <td>NaN</td>\n",
       "      <td>ISS</td>\n",
       "    </tr>\n",
       "    <tr>\n",
       "      <th>3</th>\n",
       "      <td>NaN</td>\n",
       "      <td>PO</td>\n",
       "    </tr>\n",
       "    <tr>\n",
       "      <th>4</th>\n",
       "      <td>NaN</td>\n",
       "      <td>GTO</td>\n",
       "    </tr>\n",
       "    <tr>\n",
       "      <th>...</th>\n",
       "      <td>...</td>\n",
       "      <td>...</td>\n",
       "    </tr>\n",
       "    <tr>\n",
       "      <th>85</th>\n",
       "      <td>5e9e3032383ecb6bb234e7ca</td>\n",
       "      <td>VLEO</td>\n",
       "    </tr>\n",
       "    <tr>\n",
       "      <th>86</th>\n",
       "      <td>5e9e3032383ecb6bb234e7ca</td>\n",
       "      <td>VLEO</td>\n",
       "    </tr>\n",
       "    <tr>\n",
       "      <th>87</th>\n",
       "      <td>5e9e3032383ecb6bb234e7ca</td>\n",
       "      <td>VLEO</td>\n",
       "    </tr>\n",
       "    <tr>\n",
       "      <th>88</th>\n",
       "      <td>5e9e3033383ecbb9e534e7cc</td>\n",
       "      <td>VLEO</td>\n",
       "    </tr>\n",
       "    <tr>\n",
       "      <th>89</th>\n",
       "      <td>5e9e3032383ecb6bb234e7ca</td>\n",
       "      <td>MEO</td>\n",
       "    </tr>\n",
       "  </tbody>\n",
       "</table>\n",
       "<p>90 rows × 2 columns</p>\n",
       "</div>"
      ],
      "text/plain": [
       "                  LandingPad Orbit\n",
       "0                        NaN   LEO\n",
       "1                        NaN   LEO\n",
       "2                        NaN   ISS\n",
       "3                        NaN    PO\n",
       "4                        NaN   GTO\n",
       "..                       ...   ...\n",
       "85  5e9e3032383ecb6bb234e7ca  VLEO\n",
       "86  5e9e3032383ecb6bb234e7ca  VLEO\n",
       "87  5e9e3032383ecb6bb234e7ca  VLEO\n",
       "88  5e9e3033383ecbb9e534e7cc  VLEO\n",
       "89  5e9e3032383ecb6bb234e7ca   MEO\n",
       "\n",
       "[90 rows x 2 columns]"
      ]
     },
     "execution_count": 98,
     "metadata": {},
     "output_type": "execute_result"
    }
   ],
   "source": [
    "\n",
    "## we Had more orbits than this and this is only orbits for that 61 landigpads.\n",
    "\n",
    "df_missing[['LandingPad', 'Orbit']]\n"
   ]
  },
  {
   "cell_type": "markdown",
   "id": "50b00f0c-7d92-4307-a230-80eefc46ad10",
   "metadata": {},
   "source": [
    "\n",
    " In the output we see that NaN values have different Orbits which is also different from 5e9e3032383ecb6bb234e7ca orbits.\n",
    "\n",
    "If we fill the missing '5e9e3032383ecb6bb234e7ca' landing pad values based on orbit, it might be technically incorrect, since this orbit may not actually match that landing pad.\n",
    "\n",
    "The company might not use this pad for such orbits, or other unknown factors may apply.\n",
    "We can see that '5e9e3032383ecb6bb234e7ca' landing pads are linked to specific orbits, while the rows with missing pads have different orbits. \n",
    "\n",
    "So, using '5e9e3032383ecb6bb234e7ca' as a replacement would be misleading.\n",
    "\n",
    "In short, the most frequent value isn’t always the right choice for missing data.\n",
    "\n",
    "\n",
    " How to know which feature's relation is more decisive for filling missing values? \n",
    "\n",
    " We should consider other columns and features, and more importantly, we should have a domin knowledge about the dataset, to understand which one is more decisive for filling missing values out.\n",
    "\n",
    "\n",
    "5e9e3032383ecb6bb234e7ca is more frequent so: "
   ]
  },
  {
   "cell_type": "code",
   "execution_count": 100,
   "id": "1bfe93f9-fc76-43e3-8be5-869e1308115a",
   "metadata": {},
   "outputs": [
    {
     "name": "stdout",
     "output_type": "stream",
     "text": [
      "<class 'pandas.core.frame.DataFrame'>\n",
      "RangeIndex: 90 entries, 0 to 89\n",
      "Data columns (total 14 columns):\n",
      " #   Column        Non-Null Count  Dtype  \n",
      "---  ------        --------------  -----  \n",
      " 0   FlightNumber  90 non-null     int64  \n",
      " 1   Date          90 non-null     object \n",
      " 2   PayloadMass   90 non-null     float64\n",
      " 3   Orbit         90 non-null     object \n",
      " 4   LaunchSite    90 non-null     object \n",
      " 5   Outcome       90 non-null     object \n",
      " 6   Flights       90 non-null     int64  \n",
      " 7   GridFins      90 non-null     bool   \n",
      " 8   Reused        90 non-null     bool   \n",
      " 9   Legs          90 non-null     bool   \n",
      " 10  LandingPad    64 non-null     object \n",
      " 11  Block         90 non-null     float64\n",
      " 12  ReusedCount   90 non-null     int64  \n",
      " 13  Class         90 non-null     int64  \n",
      "dtypes: bool(3), float64(2), int64(4), object(5)\n",
      "memory usage: 8.1+ KB\n"
     ]
    }
   ],
   "source": [
    "\n",
    "## Let's back to our dataframe\n",
    "\n",
    "df.info()\n"
   ]
  },
  {
   "cell_type": "code",
   "execution_count": 101,
   "id": "b8920a7d-c81e-43c0-9526-0ef3ecb67b06",
   "metadata": {},
   "outputs": [
    {
     "name": "stdout",
     "output_type": "stream",
     "text": [
      "<class 'pandas.core.frame.DataFrame'>\n",
      "RangeIndex: 90 entries, 0 to 89\n",
      "Data columns (total 12 columns):\n",
      " #   Column       Non-Null Count  Dtype  \n",
      "---  ------       --------------  -----  \n",
      " 0   PayloadMass  90 non-null     float64\n",
      " 1   Orbit        90 non-null     object \n",
      " 2   LaunchSite   90 non-null     object \n",
      " 3   Outcome      90 non-null     object \n",
      " 4   Flights      90 non-null     int64  \n",
      " 5   GridFins     90 non-null     bool   \n",
      " 6   Reused       90 non-null     bool   \n",
      " 7   Legs         90 non-null     bool   \n",
      " 8   LandingPad   64 non-null     object \n",
      " 9   Block        90 non-null     float64\n",
      " 10  ReusedCount  90 non-null     int64  \n",
      " 11  Class        90 non-null     int64  \n",
      "dtypes: bool(3), float64(2), int64(3), object(4)\n",
      "memory usage: 6.7+ KB\n"
     ]
    }
   ],
   "source": [
    "\n",
    "df = df.drop(['FlightNumber', 'Date'], axis = 1)\n",
    "\n",
    "df.info()\n"
   ]
  },
  {
   "cell_type": "code",
   "execution_count": 102,
   "id": "de3e951e-3c47-4d60-9827-7f1de6cc19bf",
   "metadata": {},
   "outputs": [
    {
     "data": {
      "text/html": [
       "<div>\n",
       "<style scoped>\n",
       "    .dataframe tbody tr th:only-of-type {\n",
       "        vertical-align: middle;\n",
       "    }\n",
       "\n",
       "    .dataframe tbody tr th {\n",
       "        vertical-align: top;\n",
       "    }\n",
       "\n",
       "    .dataframe thead th {\n",
       "        text-align: right;\n",
       "    }\n",
       "</style>\n",
       "<table border=\"1\" class=\"dataframe\">\n",
       "  <thead>\n",
       "    <tr style=\"text-align: right;\">\n",
       "      <th></th>\n",
       "      <th>PayloadMass</th>\n",
       "      <th>Orbit</th>\n",
       "      <th>LaunchSite</th>\n",
       "      <th>Outcome</th>\n",
       "      <th>Flights</th>\n",
       "      <th>GridFins</th>\n",
       "      <th>Reused</th>\n",
       "      <th>Legs</th>\n",
       "      <th>LandingPad</th>\n",
       "      <th>Block</th>\n",
       "      <th>ReusedCount</th>\n",
       "      <th>Class</th>\n",
       "    </tr>\n",
       "  </thead>\n",
       "  <tbody>\n",
       "    <tr>\n",
       "      <th>0</th>\n",
       "      <td>6104.959412</td>\n",
       "      <td>LEO</td>\n",
       "      <td>CCAFS SLC 40</td>\n",
       "      <td>None None</td>\n",
       "      <td>1</td>\n",
       "      <td>False</td>\n",
       "      <td>False</td>\n",
       "      <td>False</td>\n",
       "      <td>NaN</td>\n",
       "      <td>1.0</td>\n",
       "      <td>0</td>\n",
       "      <td>0</td>\n",
       "    </tr>\n",
       "    <tr>\n",
       "      <th>1</th>\n",
       "      <td>525.000000</td>\n",
       "      <td>LEO</td>\n",
       "      <td>CCAFS SLC 40</td>\n",
       "      <td>None None</td>\n",
       "      <td>1</td>\n",
       "      <td>False</td>\n",
       "      <td>False</td>\n",
       "      <td>False</td>\n",
       "      <td>NaN</td>\n",
       "      <td>1.0</td>\n",
       "      <td>0</td>\n",
       "      <td>0</td>\n",
       "    </tr>\n",
       "    <tr>\n",
       "      <th>2</th>\n",
       "      <td>677.000000</td>\n",
       "      <td>ISS</td>\n",
       "      <td>CCAFS SLC 40</td>\n",
       "      <td>None None</td>\n",
       "      <td>1</td>\n",
       "      <td>False</td>\n",
       "      <td>False</td>\n",
       "      <td>False</td>\n",
       "      <td>NaN</td>\n",
       "      <td>1.0</td>\n",
       "      <td>0</td>\n",
       "      <td>0</td>\n",
       "    </tr>\n",
       "    <tr>\n",
       "      <th>3</th>\n",
       "      <td>500.000000</td>\n",
       "      <td>PO</td>\n",
       "      <td>VAFB SLC 4E</td>\n",
       "      <td>False Ocean</td>\n",
       "      <td>1</td>\n",
       "      <td>False</td>\n",
       "      <td>False</td>\n",
       "      <td>False</td>\n",
       "      <td>NaN</td>\n",
       "      <td>1.0</td>\n",
       "      <td>0</td>\n",
       "      <td>0</td>\n",
       "    </tr>\n",
       "    <tr>\n",
       "      <th>4</th>\n",
       "      <td>3170.000000</td>\n",
       "      <td>GTO</td>\n",
       "      <td>CCAFS SLC 40</td>\n",
       "      <td>None None</td>\n",
       "      <td>1</td>\n",
       "      <td>False</td>\n",
       "      <td>False</td>\n",
       "      <td>False</td>\n",
       "      <td>NaN</td>\n",
       "      <td>1.0</td>\n",
       "      <td>0</td>\n",
       "      <td>0</td>\n",
       "    </tr>\n",
       "  </tbody>\n",
       "</table>\n",
       "</div>"
      ],
      "text/plain": [
       "   PayloadMass Orbit    LaunchSite      Outcome  Flights  GridFins  Reused  \\\n",
       "0  6104.959412   LEO  CCAFS SLC 40    None None        1     False   False   \n",
       "1   525.000000   LEO  CCAFS SLC 40    None None        1     False   False   \n",
       "2   677.000000   ISS  CCAFS SLC 40    None None        1     False   False   \n",
       "3   500.000000    PO   VAFB SLC 4E  False Ocean        1     False   False   \n",
       "4  3170.000000   GTO  CCAFS SLC 40    None None        1     False   False   \n",
       "\n",
       "    Legs LandingPad  Block  ReusedCount  Class  \n",
       "0  False        NaN    1.0            0      0  \n",
       "1  False        NaN    1.0            0      0  \n",
       "2  False        NaN    1.0            0      0  \n",
       "3  False        NaN    1.0            0      0  \n",
       "4  False        NaN    1.0            0      0  "
      ]
     },
     "execution_count": 102,
     "metadata": {},
     "output_type": "execute_result"
    }
   ],
   "source": [
    "\n",
    "df.head()\n"
   ]
  },
  {
   "cell_type": "code",
   "execution_count": 103,
   "id": "08014de6-ba2f-4b1a-9332-daf3fa6e89fe",
   "metadata": {},
   "outputs": [
    {
     "data": {
      "text/plain": [
       "0     CCAFS SLC 40\n",
       "1     CCAFS SLC 40\n",
       "2     CCAFS SLC 40\n",
       "3      VAFB SLC 4E\n",
       "4     CCAFS SLC 40\n",
       "          ...     \n",
       "85      KSC LC 39A\n",
       "86      KSC LC 39A\n",
       "87      KSC LC 39A\n",
       "88    CCAFS SLC 40\n",
       "89    CCAFS SLC 40\n",
       "Name: LaunchSite, Length: 90, dtype: object"
      ]
     },
     "execution_count": 103,
     "metadata": {},
     "output_type": "execute_result"
    }
   ],
   "source": [
    "\n",
    "## We convey categorical data to numerical.\n",
    "\n",
    "df['LaunchSite']\n"
   ]
  },
  {
   "cell_type": "code",
   "execution_count": 104,
   "id": "2fcd22c8-2238-449d-a886-2d4bece9a1a0",
   "metadata": {},
   "outputs": [
    {
     "data": {
      "text/plain": [
       "{'CCAFS SLC 40', 'KSC LC 39A', 'VAFB SLC 4E'}"
      ]
     },
     "execution_count": 104,
     "metadata": {},
     "output_type": "execute_result"
    }
   ],
   "source": [
    "set(df['LaunchSite'])"
   ]
  },
  {
   "cell_type": "markdown",
   "id": "b9dadbc3-156b-4540-8636-fe1fc4529d6e",
   "metadata": {},
   "source": [
    "\n",
    "### Dummy Variable:\n",
    "\n",
    "#### We use dummy variable to label categories numerically.\n",
    "#### this numbers do not have meaning inherently.\n"
   ]
  },
  {
   "cell_type": "code",
   "execution_count": 105,
   "id": "6ebb2670-e908-49d1-9a40-981158af4208",
   "metadata": {},
   "outputs": [
    {
     "data": {
      "text/html": [
       "<div>\n",
       "<style scoped>\n",
       "    .dataframe tbody tr th:only-of-type {\n",
       "        vertical-align: middle;\n",
       "    }\n",
       "\n",
       "    .dataframe tbody tr th {\n",
       "        vertical-align: top;\n",
       "    }\n",
       "\n",
       "    .dataframe thead th {\n",
       "        text-align: right;\n",
       "    }\n",
       "</style>\n",
       "<table border=\"1\" class=\"dataframe\">\n",
       "  <thead>\n",
       "    <tr style=\"text-align: right;\">\n",
       "      <th></th>\n",
       "      <th>CCAFS SLC 40</th>\n",
       "      <th>KSC LC 39A</th>\n",
       "      <th>VAFB SLC 4E</th>\n",
       "    </tr>\n",
       "  </thead>\n",
       "  <tbody>\n",
       "    <tr>\n",
       "      <th>0</th>\n",
       "      <td>1</td>\n",
       "      <td>0</td>\n",
       "      <td>0</td>\n",
       "    </tr>\n",
       "    <tr>\n",
       "      <th>1</th>\n",
       "      <td>1</td>\n",
       "      <td>0</td>\n",
       "      <td>0</td>\n",
       "    </tr>\n",
       "    <tr>\n",
       "      <th>2</th>\n",
       "      <td>1</td>\n",
       "      <td>0</td>\n",
       "      <td>0</td>\n",
       "    </tr>\n",
       "    <tr>\n",
       "      <th>3</th>\n",
       "      <td>0</td>\n",
       "      <td>0</td>\n",
       "      <td>1</td>\n",
       "    </tr>\n",
       "    <tr>\n",
       "      <th>4</th>\n",
       "      <td>1</td>\n",
       "      <td>0</td>\n",
       "      <td>0</td>\n",
       "    </tr>\n",
       "    <tr>\n",
       "      <th>...</th>\n",
       "      <td>...</td>\n",
       "      <td>...</td>\n",
       "      <td>...</td>\n",
       "    </tr>\n",
       "    <tr>\n",
       "      <th>85</th>\n",
       "      <td>0</td>\n",
       "      <td>1</td>\n",
       "      <td>0</td>\n",
       "    </tr>\n",
       "    <tr>\n",
       "      <th>86</th>\n",
       "      <td>0</td>\n",
       "      <td>1</td>\n",
       "      <td>0</td>\n",
       "    </tr>\n",
       "    <tr>\n",
       "      <th>87</th>\n",
       "      <td>0</td>\n",
       "      <td>1</td>\n",
       "      <td>0</td>\n",
       "    </tr>\n",
       "    <tr>\n",
       "      <th>88</th>\n",
       "      <td>1</td>\n",
       "      <td>0</td>\n",
       "      <td>0</td>\n",
       "    </tr>\n",
       "    <tr>\n",
       "      <th>89</th>\n",
       "      <td>1</td>\n",
       "      <td>0</td>\n",
       "      <td>0</td>\n",
       "    </tr>\n",
       "  </tbody>\n",
       "</table>\n",
       "<p>90 rows × 3 columns</p>\n",
       "</div>"
      ],
      "text/plain": [
       "    CCAFS SLC 40  KSC LC 39A  VAFB SLC 4E\n",
       "0              1           0            0\n",
       "1              1           0            0\n",
       "2              1           0            0\n",
       "3              0           0            1\n",
       "4              1           0            0\n",
       "..           ...         ...          ...\n",
       "85             0           1            0\n",
       "86             0           1            0\n",
       "87             0           1            0\n",
       "88             1           0            0\n",
       "89             1           0            0\n",
       "\n",
       "[90 rows x 3 columns]"
      ]
     },
     "execution_count": 105,
     "metadata": {},
     "output_type": "execute_result"
    }
   ],
   "source": [
    "\n",
    "dummy_1 = pd.get_dummies(df['LaunchSite'], dtype=int )\n",
    "\n",
    "dummy_1\n"
   ]
  },
  {
   "cell_type": "code",
   "execution_count": 106,
   "id": "61d3036c-2467-4f3f-9d40-0755784bddc6",
   "metadata": {},
   "outputs": [
    {
     "data": {
      "text/html": [
       "<div>\n",
       "<style scoped>\n",
       "    .dataframe tbody tr th:only-of-type {\n",
       "        vertical-align: middle;\n",
       "    }\n",
       "\n",
       "    .dataframe tbody tr th {\n",
       "        vertical-align: top;\n",
       "    }\n",
       "\n",
       "    .dataframe thead th {\n",
       "        text-align: right;\n",
       "    }\n",
       "</style>\n",
       "<table border=\"1\" class=\"dataframe\">\n",
       "  <thead>\n",
       "    <tr style=\"text-align: right;\">\n",
       "      <th></th>\n",
       "      <th>5e9e3032383ecb267a34e7c7</th>\n",
       "      <th>5e9e3032383ecb554034e7c9</th>\n",
       "      <th>5e9e3032383ecb6bb234e7ca</th>\n",
       "      <th>5e9e3032383ecb761634e7cb</th>\n",
       "      <th>5e9e3033383ecbb9e534e7cc</th>\n",
       "    </tr>\n",
       "  </thead>\n",
       "  <tbody>\n",
       "    <tr>\n",
       "      <th>10</th>\n",
       "      <td>0</td>\n",
       "      <td>0</td>\n",
       "      <td>0</td>\n",
       "      <td>0</td>\n",
       "      <td>0</td>\n",
       "    </tr>\n",
       "    <tr>\n",
       "      <th>11</th>\n",
       "      <td>0</td>\n",
       "      <td>0</td>\n",
       "      <td>0</td>\n",
       "      <td>1</td>\n",
       "      <td>0</td>\n",
       "    </tr>\n",
       "    <tr>\n",
       "      <th>12</th>\n",
       "      <td>0</td>\n",
       "      <td>0</td>\n",
       "      <td>0</td>\n",
       "      <td>0</td>\n",
       "      <td>0</td>\n",
       "    </tr>\n",
       "    <tr>\n",
       "      <th>13</th>\n",
       "      <td>0</td>\n",
       "      <td>0</td>\n",
       "      <td>0</td>\n",
       "      <td>1</td>\n",
       "      <td>0</td>\n",
       "    </tr>\n",
       "    <tr>\n",
       "      <th>14</th>\n",
       "      <td>0</td>\n",
       "      <td>0</td>\n",
       "      <td>0</td>\n",
       "      <td>0</td>\n",
       "      <td>0</td>\n",
       "    </tr>\n",
       "    <tr>\n",
       "      <th>15</th>\n",
       "      <td>0</td>\n",
       "      <td>0</td>\n",
       "      <td>1</td>\n",
       "      <td>0</td>\n",
       "      <td>0</td>\n",
       "    </tr>\n",
       "    <tr>\n",
       "      <th>16</th>\n",
       "      <td>1</td>\n",
       "      <td>0</td>\n",
       "      <td>0</td>\n",
       "      <td>0</td>\n",
       "      <td>0</td>\n",
       "    </tr>\n",
       "    <tr>\n",
       "      <th>17</th>\n",
       "      <td>0</td>\n",
       "      <td>0</td>\n",
       "      <td>0</td>\n",
       "      <td>0</td>\n",
       "      <td>1</td>\n",
       "    </tr>\n",
       "    <tr>\n",
       "      <th>18</th>\n",
       "      <td>0</td>\n",
       "      <td>0</td>\n",
       "      <td>1</td>\n",
       "      <td>0</td>\n",
       "      <td>0</td>\n",
       "    </tr>\n",
       "    <tr>\n",
       "      <th>19</th>\n",
       "      <td>0</td>\n",
       "      <td>0</td>\n",
       "      <td>1</td>\n",
       "      <td>0</td>\n",
       "      <td>0</td>\n",
       "    </tr>\n",
       "  </tbody>\n",
       "</table>\n",
       "</div>"
      ],
      "text/plain": [
       "    5e9e3032383ecb267a34e7c7  5e9e3032383ecb554034e7c9  \\\n",
       "10                         0                         0   \n",
       "11                         0                         0   \n",
       "12                         0                         0   \n",
       "13                         0                         0   \n",
       "14                         0                         0   \n",
       "15                         0                         0   \n",
       "16                         1                         0   \n",
       "17                         0                         0   \n",
       "18                         0                         0   \n",
       "19                         0                         0   \n",
       "\n",
       "    5e9e3032383ecb6bb234e7ca  5e9e3032383ecb761634e7cb  \\\n",
       "10                         0                         0   \n",
       "11                         0                         1   \n",
       "12                         0                         0   \n",
       "13                         0                         1   \n",
       "14                         0                         0   \n",
       "15                         1                         0   \n",
       "16                         0                         0   \n",
       "17                         0                         0   \n",
       "18                         1                         0   \n",
       "19                         1                         0   \n",
       "\n",
       "    5e9e3033383ecbb9e534e7cc  \n",
       "10                         0  \n",
       "11                         0  \n",
       "12                         0  \n",
       "13                         0  \n",
       "14                         0  \n",
       "15                         0  \n",
       "16                         0  \n",
       "17                         1  \n",
       "18                         0  \n",
       "19                         0  "
      ]
     },
     "execution_count": 106,
     "metadata": {},
     "output_type": "execute_result"
    }
   ],
   "source": [
    "\n",
    "dummy_2 = pd.get_dummies(df['LandingPad'], dtype=int )\n",
    "\n",
    "dummy_2[10 : 20]\n"
   ]
  },
  {
   "cell_type": "markdown",
   "id": "313ba698-47d1-4c23-8c7c-9f0dedfa3d6c",
   "metadata": {},
   "source": [
    "\n",
    "#### We have some rows which all values are 0, means NaN values which are non of this landing pads. Like index 10\n"
   ]
  },
  {
   "cell_type": "code",
   "execution_count": 108,
   "id": "5fefdae2-2295-477e-ab4c-c8b42094d36d",
   "metadata": {},
   "outputs": [],
   "source": [
    "\n",
    "# Convey all categorical to dummy\n",
    "\n",
    "df_dummy = pd.get_dummies(df[['Orbit', 'LaunchSite', 'Outcome', 'LandingPad']], dtype = int)\n"
   ]
  },
  {
   "cell_type": "code",
   "execution_count": 109,
   "id": "37773b0f-2216-4acf-aa32-327faf995766",
   "metadata": {},
   "outputs": [
    {
     "data": {
      "text/html": [
       "<div>\n",
       "<style scoped>\n",
       "    .dataframe tbody tr th:only-of-type {\n",
       "        vertical-align: middle;\n",
       "    }\n",
       "\n",
       "    .dataframe tbody tr th {\n",
       "        vertical-align: top;\n",
       "    }\n",
       "\n",
       "    .dataframe thead th {\n",
       "        text-align: right;\n",
       "    }\n",
       "</style>\n",
       "<table border=\"1\" class=\"dataframe\">\n",
       "  <thead>\n",
       "    <tr style=\"text-align: right;\">\n",
       "      <th></th>\n",
       "      <th>Orbit_ES-L1</th>\n",
       "      <th>Orbit_GEO</th>\n",
       "      <th>Orbit_GTO</th>\n",
       "      <th>Orbit_HEO</th>\n",
       "      <th>Orbit_ISS</th>\n",
       "      <th>Orbit_LEO</th>\n",
       "      <th>Orbit_MEO</th>\n",
       "      <th>Orbit_PO</th>\n",
       "      <th>Orbit_SO</th>\n",
       "      <th>Orbit_SSO</th>\n",
       "      <th>...</th>\n",
       "      <th>Outcome_None ASDS</th>\n",
       "      <th>Outcome_None None</th>\n",
       "      <th>Outcome_True ASDS</th>\n",
       "      <th>Outcome_True Ocean</th>\n",
       "      <th>Outcome_True RTLS</th>\n",
       "      <th>LandingPad_5e9e3032383ecb267a34e7c7</th>\n",
       "      <th>LandingPad_5e9e3032383ecb554034e7c9</th>\n",
       "      <th>LandingPad_5e9e3032383ecb6bb234e7ca</th>\n",
       "      <th>LandingPad_5e9e3032383ecb761634e7cb</th>\n",
       "      <th>LandingPad_5e9e3033383ecbb9e534e7cc</th>\n",
       "    </tr>\n",
       "  </thead>\n",
       "  <tbody>\n",
       "    <tr>\n",
       "      <th>0</th>\n",
       "      <td>0</td>\n",
       "      <td>0</td>\n",
       "      <td>0</td>\n",
       "      <td>0</td>\n",
       "      <td>0</td>\n",
       "      <td>1</td>\n",
       "      <td>0</td>\n",
       "      <td>0</td>\n",
       "      <td>0</td>\n",
       "      <td>0</td>\n",
       "      <td>...</td>\n",
       "      <td>0</td>\n",
       "      <td>1</td>\n",
       "      <td>0</td>\n",
       "      <td>0</td>\n",
       "      <td>0</td>\n",
       "      <td>0</td>\n",
       "      <td>0</td>\n",
       "      <td>0</td>\n",
       "      <td>0</td>\n",
       "      <td>0</td>\n",
       "    </tr>\n",
       "    <tr>\n",
       "      <th>1</th>\n",
       "      <td>0</td>\n",
       "      <td>0</td>\n",
       "      <td>0</td>\n",
       "      <td>0</td>\n",
       "      <td>0</td>\n",
       "      <td>1</td>\n",
       "      <td>0</td>\n",
       "      <td>0</td>\n",
       "      <td>0</td>\n",
       "      <td>0</td>\n",
       "      <td>...</td>\n",
       "      <td>0</td>\n",
       "      <td>1</td>\n",
       "      <td>0</td>\n",
       "      <td>0</td>\n",
       "      <td>0</td>\n",
       "      <td>0</td>\n",
       "      <td>0</td>\n",
       "      <td>0</td>\n",
       "      <td>0</td>\n",
       "      <td>0</td>\n",
       "    </tr>\n",
       "    <tr>\n",
       "      <th>2</th>\n",
       "      <td>0</td>\n",
       "      <td>0</td>\n",
       "      <td>0</td>\n",
       "      <td>0</td>\n",
       "      <td>1</td>\n",
       "      <td>0</td>\n",
       "      <td>0</td>\n",
       "      <td>0</td>\n",
       "      <td>0</td>\n",
       "      <td>0</td>\n",
       "      <td>...</td>\n",
       "      <td>0</td>\n",
       "      <td>1</td>\n",
       "      <td>0</td>\n",
       "      <td>0</td>\n",
       "      <td>0</td>\n",
       "      <td>0</td>\n",
       "      <td>0</td>\n",
       "      <td>0</td>\n",
       "      <td>0</td>\n",
       "      <td>0</td>\n",
       "    </tr>\n",
       "    <tr>\n",
       "      <th>3</th>\n",
       "      <td>0</td>\n",
       "      <td>0</td>\n",
       "      <td>0</td>\n",
       "      <td>0</td>\n",
       "      <td>0</td>\n",
       "      <td>0</td>\n",
       "      <td>0</td>\n",
       "      <td>1</td>\n",
       "      <td>0</td>\n",
       "      <td>0</td>\n",
       "      <td>...</td>\n",
       "      <td>0</td>\n",
       "      <td>0</td>\n",
       "      <td>0</td>\n",
       "      <td>0</td>\n",
       "      <td>0</td>\n",
       "      <td>0</td>\n",
       "      <td>0</td>\n",
       "      <td>0</td>\n",
       "      <td>0</td>\n",
       "      <td>0</td>\n",
       "    </tr>\n",
       "    <tr>\n",
       "      <th>4</th>\n",
       "      <td>0</td>\n",
       "      <td>0</td>\n",
       "      <td>1</td>\n",
       "      <td>0</td>\n",
       "      <td>0</td>\n",
       "      <td>0</td>\n",
       "      <td>0</td>\n",
       "      <td>0</td>\n",
       "      <td>0</td>\n",
       "      <td>0</td>\n",
       "      <td>...</td>\n",
       "      <td>0</td>\n",
       "      <td>1</td>\n",
       "      <td>0</td>\n",
       "      <td>0</td>\n",
       "      <td>0</td>\n",
       "      <td>0</td>\n",
       "      <td>0</td>\n",
       "      <td>0</td>\n",
       "      <td>0</td>\n",
       "      <td>0</td>\n",
       "    </tr>\n",
       "    <tr>\n",
       "      <th>...</th>\n",
       "      <td>...</td>\n",
       "      <td>...</td>\n",
       "      <td>...</td>\n",
       "      <td>...</td>\n",
       "      <td>...</td>\n",
       "      <td>...</td>\n",
       "      <td>...</td>\n",
       "      <td>...</td>\n",
       "      <td>...</td>\n",
       "      <td>...</td>\n",
       "      <td>...</td>\n",
       "      <td>...</td>\n",
       "      <td>...</td>\n",
       "      <td>...</td>\n",
       "      <td>...</td>\n",
       "      <td>...</td>\n",
       "      <td>...</td>\n",
       "      <td>...</td>\n",
       "      <td>...</td>\n",
       "      <td>...</td>\n",
       "      <td>...</td>\n",
       "    </tr>\n",
       "    <tr>\n",
       "      <th>85</th>\n",
       "      <td>0</td>\n",
       "      <td>0</td>\n",
       "      <td>0</td>\n",
       "      <td>0</td>\n",
       "      <td>0</td>\n",
       "      <td>0</td>\n",
       "      <td>0</td>\n",
       "      <td>0</td>\n",
       "      <td>0</td>\n",
       "      <td>0</td>\n",
       "      <td>...</td>\n",
       "      <td>0</td>\n",
       "      <td>0</td>\n",
       "      <td>1</td>\n",
       "      <td>0</td>\n",
       "      <td>0</td>\n",
       "      <td>0</td>\n",
       "      <td>0</td>\n",
       "      <td>1</td>\n",
       "      <td>0</td>\n",
       "      <td>0</td>\n",
       "    </tr>\n",
       "    <tr>\n",
       "      <th>86</th>\n",
       "      <td>0</td>\n",
       "      <td>0</td>\n",
       "      <td>0</td>\n",
       "      <td>0</td>\n",
       "      <td>0</td>\n",
       "      <td>0</td>\n",
       "      <td>0</td>\n",
       "      <td>0</td>\n",
       "      <td>0</td>\n",
       "      <td>0</td>\n",
       "      <td>...</td>\n",
       "      <td>0</td>\n",
       "      <td>0</td>\n",
       "      <td>1</td>\n",
       "      <td>0</td>\n",
       "      <td>0</td>\n",
       "      <td>0</td>\n",
       "      <td>0</td>\n",
       "      <td>1</td>\n",
       "      <td>0</td>\n",
       "      <td>0</td>\n",
       "    </tr>\n",
       "    <tr>\n",
       "      <th>87</th>\n",
       "      <td>0</td>\n",
       "      <td>0</td>\n",
       "      <td>0</td>\n",
       "      <td>0</td>\n",
       "      <td>0</td>\n",
       "      <td>0</td>\n",
       "      <td>0</td>\n",
       "      <td>0</td>\n",
       "      <td>0</td>\n",
       "      <td>0</td>\n",
       "      <td>...</td>\n",
       "      <td>0</td>\n",
       "      <td>0</td>\n",
       "      <td>1</td>\n",
       "      <td>0</td>\n",
       "      <td>0</td>\n",
       "      <td>0</td>\n",
       "      <td>0</td>\n",
       "      <td>1</td>\n",
       "      <td>0</td>\n",
       "      <td>0</td>\n",
       "    </tr>\n",
       "    <tr>\n",
       "      <th>88</th>\n",
       "      <td>0</td>\n",
       "      <td>0</td>\n",
       "      <td>0</td>\n",
       "      <td>0</td>\n",
       "      <td>0</td>\n",
       "      <td>0</td>\n",
       "      <td>0</td>\n",
       "      <td>0</td>\n",
       "      <td>0</td>\n",
       "      <td>0</td>\n",
       "      <td>...</td>\n",
       "      <td>0</td>\n",
       "      <td>0</td>\n",
       "      <td>1</td>\n",
       "      <td>0</td>\n",
       "      <td>0</td>\n",
       "      <td>0</td>\n",
       "      <td>0</td>\n",
       "      <td>0</td>\n",
       "      <td>0</td>\n",
       "      <td>1</td>\n",
       "    </tr>\n",
       "    <tr>\n",
       "      <th>89</th>\n",
       "      <td>0</td>\n",
       "      <td>0</td>\n",
       "      <td>0</td>\n",
       "      <td>0</td>\n",
       "      <td>0</td>\n",
       "      <td>0</td>\n",
       "      <td>1</td>\n",
       "      <td>0</td>\n",
       "      <td>0</td>\n",
       "      <td>0</td>\n",
       "      <td>...</td>\n",
       "      <td>0</td>\n",
       "      <td>0</td>\n",
       "      <td>1</td>\n",
       "      <td>0</td>\n",
       "      <td>0</td>\n",
       "      <td>0</td>\n",
       "      <td>0</td>\n",
       "      <td>1</td>\n",
       "      <td>0</td>\n",
       "      <td>0</td>\n",
       "    </tr>\n",
       "  </tbody>\n",
       "</table>\n",
       "<p>90 rows × 27 columns</p>\n",
       "</div>"
      ],
      "text/plain": [
       "    Orbit_ES-L1  Orbit_GEO  Orbit_GTO  Orbit_HEO  Orbit_ISS  Orbit_LEO  \\\n",
       "0             0          0          0          0          0          1   \n",
       "1             0          0          0          0          0          1   \n",
       "2             0          0          0          0          1          0   \n",
       "3             0          0          0          0          0          0   \n",
       "4             0          0          1          0          0          0   \n",
       "..          ...        ...        ...        ...        ...        ...   \n",
       "85            0          0          0          0          0          0   \n",
       "86            0          0          0          0          0          0   \n",
       "87            0          0          0          0          0          0   \n",
       "88            0          0          0          0          0          0   \n",
       "89            0          0          0          0          0          0   \n",
       "\n",
       "    Orbit_MEO  Orbit_PO  Orbit_SO  Orbit_SSO  ...  Outcome_None ASDS  \\\n",
       "0           0         0         0          0  ...                  0   \n",
       "1           0         0         0          0  ...                  0   \n",
       "2           0         0         0          0  ...                  0   \n",
       "3           0         1         0          0  ...                  0   \n",
       "4           0         0         0          0  ...                  0   \n",
       "..        ...       ...       ...        ...  ...                ...   \n",
       "85          0         0         0          0  ...                  0   \n",
       "86          0         0         0          0  ...                  0   \n",
       "87          0         0         0          0  ...                  0   \n",
       "88          0         0         0          0  ...                  0   \n",
       "89          1         0         0          0  ...                  0   \n",
       "\n",
       "    Outcome_None None  Outcome_True ASDS  Outcome_True Ocean  \\\n",
       "0                   1                  0                   0   \n",
       "1                   1                  0                   0   \n",
       "2                   1                  0                   0   \n",
       "3                   0                  0                   0   \n",
       "4                   1                  0                   0   \n",
       "..                ...                ...                 ...   \n",
       "85                  0                  1                   0   \n",
       "86                  0                  1                   0   \n",
       "87                  0                  1                   0   \n",
       "88                  0                  1                   0   \n",
       "89                  0                  1                   0   \n",
       "\n",
       "    Outcome_True RTLS  LandingPad_5e9e3032383ecb267a34e7c7  \\\n",
       "0                   0                                    0   \n",
       "1                   0                                    0   \n",
       "2                   0                                    0   \n",
       "3                   0                                    0   \n",
       "4                   0                                    0   \n",
       "..                ...                                  ...   \n",
       "85                  0                                    0   \n",
       "86                  0                                    0   \n",
       "87                  0                                    0   \n",
       "88                  0                                    0   \n",
       "89                  0                                    0   \n",
       "\n",
       "    LandingPad_5e9e3032383ecb554034e7c9  LandingPad_5e9e3032383ecb6bb234e7ca  \\\n",
       "0                                     0                                    0   \n",
       "1                                     0                                    0   \n",
       "2                                     0                                    0   \n",
       "3                                     0                                    0   \n",
       "4                                     0                                    0   \n",
       "..                                  ...                                  ...   \n",
       "85                                    0                                    1   \n",
       "86                                    0                                    1   \n",
       "87                                    0                                    1   \n",
       "88                                    0                                    0   \n",
       "89                                    0                                    1   \n",
       "\n",
       "    LandingPad_5e9e3032383ecb761634e7cb  LandingPad_5e9e3033383ecbb9e534e7cc  \n",
       "0                                     0                                    0  \n",
       "1                                     0                                    0  \n",
       "2                                     0                                    0  \n",
       "3                                     0                                    0  \n",
       "4                                     0                                    0  \n",
       "..                                  ...                                  ...  \n",
       "85                                    0                                    0  \n",
       "86                                    0                                    0  \n",
       "87                                    0                                    0  \n",
       "88                                    0                                    1  \n",
       "89                                    0                                    0  \n",
       "\n",
       "[90 rows x 27 columns]"
      ]
     },
     "execution_count": 109,
     "metadata": {},
     "output_type": "execute_result"
    }
   ],
   "source": [
    "\n",
    "df_dummy\n"
   ]
  },
  {
   "cell_type": "markdown",
   "id": "2d232d25-eb87-46f3-9ec9-2959d457a3e5",
   "metadata": {},
   "source": [
    "\n",
    "### BOOLEAN Variable: \n",
    "\n",
    "#### TURN BOOLEAN from True/False to 1/0\n"
   ]
  },
  {
   "cell_type": "code",
   "execution_count": 110,
   "id": "83341deb-7d07-4a98-910e-fc948994cc2e",
   "metadata": {},
   "outputs": [],
   "source": [
    "\n",
    "df['GridFins'] = df['GridFins'].astype(int)\n",
    "\n",
    "df['Reused'] = df['Reused'].astype(int)\n",
    "\n",
    "df['Legs'] = df['Legs'].astype(int)\n"
   ]
  },
  {
   "cell_type": "code",
   "execution_count": 111,
   "id": "04f7c73e-f255-4680-861d-6609b373d3f2",
   "metadata": {},
   "outputs": [
    {
     "name": "stdout",
     "output_type": "stream",
     "text": [
      "<class 'pandas.core.frame.DataFrame'>\n",
      "RangeIndex: 90 entries, 0 to 89\n",
      "Data columns (total 12 columns):\n",
      " #   Column       Non-Null Count  Dtype  \n",
      "---  ------       --------------  -----  \n",
      " 0   PayloadMass  90 non-null     float64\n",
      " 1   Orbit        90 non-null     object \n",
      " 2   LaunchSite   90 non-null     object \n",
      " 3   Outcome      90 non-null     object \n",
      " 4   Flights      90 non-null     int64  \n",
      " 5   GridFins     90 non-null     int64  \n",
      " 6   Reused       90 non-null     int64  \n",
      " 7   Legs         90 non-null     int64  \n",
      " 8   LandingPad   64 non-null     object \n",
      " 9   Block        90 non-null     float64\n",
      " 10  ReusedCount  90 non-null     int64  \n",
      " 11  Class        90 non-null     int64  \n",
      "dtypes: float64(2), int64(6), object(4)\n",
      "memory usage: 8.6+ KB\n"
     ]
    }
   ],
   "source": [
    "\n",
    "df.info()\n"
   ]
  },
  {
   "cell_type": "code",
   "execution_count": 112,
   "id": "68181047-a187-4b5d-b20e-1d2698db0812",
   "metadata": {},
   "outputs": [],
   "source": [
    "\n",
    "## drop objects from DF\n",
    "\n",
    "df = df.drop(['Orbit', 'LaunchSite', 'Outcome', 'LandingPad'], axis = 1)\n"
   ]
  },
  {
   "cell_type": "code",
   "execution_count": 113,
   "id": "7de13c9c-ad8e-46bc-9209-3add080ae443",
   "metadata": {},
   "outputs": [],
   "source": [
    "\n",
    "# Concat()\n",
    "\n",
    "df = pd.concat([df, df_dummy], axis = 1)\n"
   ]
  },
  {
   "cell_type": "code",
   "execution_count": 114,
   "id": "52dfc8e6-dfcb-4866-ae7c-175ffe877496",
   "metadata": {},
   "outputs": [
    {
     "data": {
      "text/html": [
       "<div>\n",
       "<style scoped>\n",
       "    .dataframe tbody tr th:only-of-type {\n",
       "        vertical-align: middle;\n",
       "    }\n",
       "\n",
       "    .dataframe tbody tr th {\n",
       "        vertical-align: top;\n",
       "    }\n",
       "\n",
       "    .dataframe thead th {\n",
       "        text-align: right;\n",
       "    }\n",
       "</style>\n",
       "<table border=\"1\" class=\"dataframe\">\n",
       "  <thead>\n",
       "    <tr style=\"text-align: right;\">\n",
       "      <th></th>\n",
       "      <th>PayloadMass</th>\n",
       "      <th>Flights</th>\n",
       "      <th>GridFins</th>\n",
       "      <th>Reused</th>\n",
       "      <th>Legs</th>\n",
       "      <th>Block</th>\n",
       "      <th>ReusedCount</th>\n",
       "      <th>Class</th>\n",
       "      <th>Orbit_ES-L1</th>\n",
       "      <th>Orbit_GEO</th>\n",
       "      <th>...</th>\n",
       "      <th>Outcome_None ASDS</th>\n",
       "      <th>Outcome_None None</th>\n",
       "      <th>Outcome_True ASDS</th>\n",
       "      <th>Outcome_True Ocean</th>\n",
       "      <th>Outcome_True RTLS</th>\n",
       "      <th>LandingPad_5e9e3032383ecb267a34e7c7</th>\n",
       "      <th>LandingPad_5e9e3032383ecb554034e7c9</th>\n",
       "      <th>LandingPad_5e9e3032383ecb6bb234e7ca</th>\n",
       "      <th>LandingPad_5e9e3032383ecb761634e7cb</th>\n",
       "      <th>LandingPad_5e9e3033383ecbb9e534e7cc</th>\n",
       "    </tr>\n",
       "  </thead>\n",
       "  <tbody>\n",
       "    <tr>\n",
       "      <th>0</th>\n",
       "      <td>6104.959412</td>\n",
       "      <td>1</td>\n",
       "      <td>0</td>\n",
       "      <td>0</td>\n",
       "      <td>0</td>\n",
       "      <td>1.0</td>\n",
       "      <td>0</td>\n",
       "      <td>0</td>\n",
       "      <td>0</td>\n",
       "      <td>0</td>\n",
       "      <td>...</td>\n",
       "      <td>0</td>\n",
       "      <td>1</td>\n",
       "      <td>0</td>\n",
       "      <td>0</td>\n",
       "      <td>0</td>\n",
       "      <td>0</td>\n",
       "      <td>0</td>\n",
       "      <td>0</td>\n",
       "      <td>0</td>\n",
       "      <td>0</td>\n",
       "    </tr>\n",
       "    <tr>\n",
       "      <th>1</th>\n",
       "      <td>525.000000</td>\n",
       "      <td>1</td>\n",
       "      <td>0</td>\n",
       "      <td>0</td>\n",
       "      <td>0</td>\n",
       "      <td>1.0</td>\n",
       "      <td>0</td>\n",
       "      <td>0</td>\n",
       "      <td>0</td>\n",
       "      <td>0</td>\n",
       "      <td>...</td>\n",
       "      <td>0</td>\n",
       "      <td>1</td>\n",
       "      <td>0</td>\n",
       "      <td>0</td>\n",
       "      <td>0</td>\n",
       "      <td>0</td>\n",
       "      <td>0</td>\n",
       "      <td>0</td>\n",
       "      <td>0</td>\n",
       "      <td>0</td>\n",
       "    </tr>\n",
       "    <tr>\n",
       "      <th>2</th>\n",
       "      <td>677.000000</td>\n",
       "      <td>1</td>\n",
       "      <td>0</td>\n",
       "      <td>0</td>\n",
       "      <td>0</td>\n",
       "      <td>1.0</td>\n",
       "      <td>0</td>\n",
       "      <td>0</td>\n",
       "      <td>0</td>\n",
       "      <td>0</td>\n",
       "      <td>...</td>\n",
       "      <td>0</td>\n",
       "      <td>1</td>\n",
       "      <td>0</td>\n",
       "      <td>0</td>\n",
       "      <td>0</td>\n",
       "      <td>0</td>\n",
       "      <td>0</td>\n",
       "      <td>0</td>\n",
       "      <td>0</td>\n",
       "      <td>0</td>\n",
       "    </tr>\n",
       "    <tr>\n",
       "      <th>3</th>\n",
       "      <td>500.000000</td>\n",
       "      <td>1</td>\n",
       "      <td>0</td>\n",
       "      <td>0</td>\n",
       "      <td>0</td>\n",
       "      <td>1.0</td>\n",
       "      <td>0</td>\n",
       "      <td>0</td>\n",
       "      <td>0</td>\n",
       "      <td>0</td>\n",
       "      <td>...</td>\n",
       "      <td>0</td>\n",
       "      <td>0</td>\n",
       "      <td>0</td>\n",
       "      <td>0</td>\n",
       "      <td>0</td>\n",
       "      <td>0</td>\n",
       "      <td>0</td>\n",
       "      <td>0</td>\n",
       "      <td>0</td>\n",
       "      <td>0</td>\n",
       "    </tr>\n",
       "    <tr>\n",
       "      <th>4</th>\n",
       "      <td>3170.000000</td>\n",
       "      <td>1</td>\n",
       "      <td>0</td>\n",
       "      <td>0</td>\n",
       "      <td>0</td>\n",
       "      <td>1.0</td>\n",
       "      <td>0</td>\n",
       "      <td>0</td>\n",
       "      <td>0</td>\n",
       "      <td>0</td>\n",
       "      <td>...</td>\n",
       "      <td>0</td>\n",
       "      <td>1</td>\n",
       "      <td>0</td>\n",
       "      <td>0</td>\n",
       "      <td>0</td>\n",
       "      <td>0</td>\n",
       "      <td>0</td>\n",
       "      <td>0</td>\n",
       "      <td>0</td>\n",
       "      <td>0</td>\n",
       "    </tr>\n",
       "    <tr>\n",
       "      <th>...</th>\n",
       "      <td>...</td>\n",
       "      <td>...</td>\n",
       "      <td>...</td>\n",
       "      <td>...</td>\n",
       "      <td>...</td>\n",
       "      <td>...</td>\n",
       "      <td>...</td>\n",
       "      <td>...</td>\n",
       "      <td>...</td>\n",
       "      <td>...</td>\n",
       "      <td>...</td>\n",
       "      <td>...</td>\n",
       "      <td>...</td>\n",
       "      <td>...</td>\n",
       "      <td>...</td>\n",
       "      <td>...</td>\n",
       "      <td>...</td>\n",
       "      <td>...</td>\n",
       "      <td>...</td>\n",
       "      <td>...</td>\n",
       "      <td>...</td>\n",
       "    </tr>\n",
       "    <tr>\n",
       "      <th>85</th>\n",
       "      <td>15400.000000</td>\n",
       "      <td>2</td>\n",
       "      <td>1</td>\n",
       "      <td>1</td>\n",
       "      <td>1</td>\n",
       "      <td>5.0</td>\n",
       "      <td>2</td>\n",
       "      <td>1</td>\n",
       "      <td>0</td>\n",
       "      <td>0</td>\n",
       "      <td>...</td>\n",
       "      <td>0</td>\n",
       "      <td>0</td>\n",
       "      <td>1</td>\n",
       "      <td>0</td>\n",
       "      <td>0</td>\n",
       "      <td>0</td>\n",
       "      <td>0</td>\n",
       "      <td>1</td>\n",
       "      <td>0</td>\n",
       "      <td>0</td>\n",
       "    </tr>\n",
       "    <tr>\n",
       "      <th>86</th>\n",
       "      <td>15400.000000</td>\n",
       "      <td>3</td>\n",
       "      <td>1</td>\n",
       "      <td>1</td>\n",
       "      <td>1</td>\n",
       "      <td>5.0</td>\n",
       "      <td>2</td>\n",
       "      <td>1</td>\n",
       "      <td>0</td>\n",
       "      <td>0</td>\n",
       "      <td>...</td>\n",
       "      <td>0</td>\n",
       "      <td>0</td>\n",
       "      <td>1</td>\n",
       "      <td>0</td>\n",
       "      <td>0</td>\n",
       "      <td>0</td>\n",
       "      <td>0</td>\n",
       "      <td>1</td>\n",
       "      <td>0</td>\n",
       "      <td>0</td>\n",
       "    </tr>\n",
       "    <tr>\n",
       "      <th>87</th>\n",
       "      <td>15400.000000</td>\n",
       "      <td>6</td>\n",
       "      <td>1</td>\n",
       "      <td>1</td>\n",
       "      <td>1</td>\n",
       "      <td>5.0</td>\n",
       "      <td>5</td>\n",
       "      <td>1</td>\n",
       "      <td>0</td>\n",
       "      <td>0</td>\n",
       "      <td>...</td>\n",
       "      <td>0</td>\n",
       "      <td>0</td>\n",
       "      <td>1</td>\n",
       "      <td>0</td>\n",
       "      <td>0</td>\n",
       "      <td>0</td>\n",
       "      <td>0</td>\n",
       "      <td>1</td>\n",
       "      <td>0</td>\n",
       "      <td>0</td>\n",
       "    </tr>\n",
       "    <tr>\n",
       "      <th>88</th>\n",
       "      <td>15400.000000</td>\n",
       "      <td>3</td>\n",
       "      <td>1</td>\n",
       "      <td>1</td>\n",
       "      <td>1</td>\n",
       "      <td>5.0</td>\n",
       "      <td>2</td>\n",
       "      <td>1</td>\n",
       "      <td>0</td>\n",
       "      <td>0</td>\n",
       "      <td>...</td>\n",
       "      <td>0</td>\n",
       "      <td>0</td>\n",
       "      <td>1</td>\n",
       "      <td>0</td>\n",
       "      <td>0</td>\n",
       "      <td>0</td>\n",
       "      <td>0</td>\n",
       "      <td>0</td>\n",
       "      <td>0</td>\n",
       "      <td>1</td>\n",
       "    </tr>\n",
       "    <tr>\n",
       "      <th>89</th>\n",
       "      <td>3681.000000</td>\n",
       "      <td>1</td>\n",
       "      <td>1</td>\n",
       "      <td>0</td>\n",
       "      <td>1</td>\n",
       "      <td>5.0</td>\n",
       "      <td>0</td>\n",
       "      <td>1</td>\n",
       "      <td>0</td>\n",
       "      <td>0</td>\n",
       "      <td>...</td>\n",
       "      <td>0</td>\n",
       "      <td>0</td>\n",
       "      <td>1</td>\n",
       "      <td>0</td>\n",
       "      <td>0</td>\n",
       "      <td>0</td>\n",
       "      <td>0</td>\n",
       "      <td>1</td>\n",
       "      <td>0</td>\n",
       "      <td>0</td>\n",
       "    </tr>\n",
       "  </tbody>\n",
       "</table>\n",
       "<p>90 rows × 35 columns</p>\n",
       "</div>"
      ],
      "text/plain": [
       "     PayloadMass  Flights  GridFins  Reused  Legs  Block  ReusedCount  Class  \\\n",
       "0    6104.959412        1         0       0     0    1.0            0      0   \n",
       "1     525.000000        1         0       0     0    1.0            0      0   \n",
       "2     677.000000        1         0       0     0    1.0            0      0   \n",
       "3     500.000000        1         0       0     0    1.0            0      0   \n",
       "4    3170.000000        1         0       0     0    1.0            0      0   \n",
       "..           ...      ...       ...     ...   ...    ...          ...    ...   \n",
       "85  15400.000000        2         1       1     1    5.0            2      1   \n",
       "86  15400.000000        3         1       1     1    5.0            2      1   \n",
       "87  15400.000000        6         1       1     1    5.0            5      1   \n",
       "88  15400.000000        3         1       1     1    5.0            2      1   \n",
       "89   3681.000000        1         1       0     1    5.0            0      1   \n",
       "\n",
       "    Orbit_ES-L1  Orbit_GEO  ...  Outcome_None ASDS  Outcome_None None  \\\n",
       "0             0          0  ...                  0                  1   \n",
       "1             0          0  ...                  0                  1   \n",
       "2             0          0  ...                  0                  1   \n",
       "3             0          0  ...                  0                  0   \n",
       "4             0          0  ...                  0                  1   \n",
       "..          ...        ...  ...                ...                ...   \n",
       "85            0          0  ...                  0                  0   \n",
       "86            0          0  ...                  0                  0   \n",
       "87            0          0  ...                  0                  0   \n",
       "88            0          0  ...                  0                  0   \n",
       "89            0          0  ...                  0                  0   \n",
       "\n",
       "    Outcome_True ASDS  Outcome_True Ocean  Outcome_True RTLS  \\\n",
       "0                   0                   0                  0   \n",
       "1                   0                   0                  0   \n",
       "2                   0                   0                  0   \n",
       "3                   0                   0                  0   \n",
       "4                   0                   0                  0   \n",
       "..                ...                 ...                ...   \n",
       "85                  1                   0                  0   \n",
       "86                  1                   0                  0   \n",
       "87                  1                   0                  0   \n",
       "88                  1                   0                  0   \n",
       "89                  1                   0                  0   \n",
       "\n",
       "    LandingPad_5e9e3032383ecb267a34e7c7  LandingPad_5e9e3032383ecb554034e7c9  \\\n",
       "0                                     0                                    0   \n",
       "1                                     0                                    0   \n",
       "2                                     0                                    0   \n",
       "3                                     0                                    0   \n",
       "4                                     0                                    0   \n",
       "..                                  ...                                  ...   \n",
       "85                                    0                                    0   \n",
       "86                                    0                                    0   \n",
       "87                                    0                                    0   \n",
       "88                                    0                                    0   \n",
       "89                                    0                                    0   \n",
       "\n",
       "    LandingPad_5e9e3032383ecb6bb234e7ca  LandingPad_5e9e3032383ecb761634e7cb  \\\n",
       "0                                     0                                    0   \n",
       "1                                     0                                    0   \n",
       "2                                     0                                    0   \n",
       "3                                     0                                    0   \n",
       "4                                     0                                    0   \n",
       "..                                  ...                                  ...   \n",
       "85                                    1                                    0   \n",
       "86                                    1                                    0   \n",
       "87                                    1                                    0   \n",
       "88                                    0                                    0   \n",
       "89                                    1                                    0   \n",
       "\n",
       "    LandingPad_5e9e3033383ecbb9e534e7cc  \n",
       "0                                     0  \n",
       "1                                     0  \n",
       "2                                     0  \n",
       "3                                     0  \n",
       "4                                     0  \n",
       "..                                  ...  \n",
       "85                                    0  \n",
       "86                                    0  \n",
       "87                                    0  \n",
       "88                                    1  \n",
       "89                                    0  \n",
       "\n",
       "[90 rows x 35 columns]"
      ]
     },
     "execution_count": 114,
     "metadata": {},
     "output_type": "execute_result"
    }
   ],
   "source": [
    "df"
   ]
  },
  {
   "cell_type": "markdown",
   "id": "f0334867-2779-40f4-94cd-1b42900d7b01",
   "metadata": {},
   "source": [
    "\n",
    "\n",
    "#### Now we have a pre-processed data frame that we can use for modeling in machine learning.\n",
    "\n",
    "\n",
    "#### All values are numerical. there is no missing value, and the columns are more than raw data.\n",
    "\n"
   ]
  },
  {
   "cell_type": "code",
   "execution_count": 116,
   "id": "33936dd3-62f2-409f-a7a1-d8bd101e6a66",
   "metadata": {},
   "outputs": [],
   "source": [
    "\n",
    "# Now it is time to save that:\n",
    "\n",
    "df.to_csv('preprocessed_dataset.csv')\n"
   ]
  },
  {
   "cell_type": "code",
   "execution_count": 117,
   "id": "413d47cb-f887-4043-aaba-a2f813d2438c",
   "metadata": {},
   "outputs": [],
   "source": [
    "# Save the DataFrame to your desired location\n",
    "\n",
    "df.to_csv('/Users/taherehehsan/out.csv')\n"
   ]
  }
 ],
 "metadata": {
  "kernelspec": {
   "display_name": "Python 3 (ipykernel)",
   "language": "python",
   "name": "python3"
  },
  "language_info": {
   "codemirror_mode": {
    "name": "ipython",
    "version": 3
   },
   "file_extension": ".py",
   "mimetype": "text/x-python",
   "name": "python",
   "nbconvert_exporter": "python",
   "pygments_lexer": "ipython3",
   "version": "3.13.7"
  }
 },
 "nbformat": 4,
 "nbformat_minor": 5
}
